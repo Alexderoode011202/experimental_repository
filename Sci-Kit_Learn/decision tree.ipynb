{
 "cells": [
  {
   "cell_type": "code",
   "execution_count": 1,
   "metadata": {},
   "outputs": [],
   "source": [
    "from sklearn import tree\n",
    "from sklearn.metrics import accuracy_score\n",
    "from sklearn.model_selection import train_test_split\n",
    "from sklearn.preprocessing import LabelEncoder\n",
    "import pandas as pd\n",
    "import matplotlib.pyplot as plt\n",
    "\n"
   ]
  },
  {
   "cell_type": "code",
   "execution_count": 35,
   "metadata": {},
   "outputs": [
    {
     "name": "stdout",
     "output_type": "stream",
     "text": [
      "['buying', 'maintenance', 'doors', 'persons', 'luggage_boot', 'safety']\n",
      "  buying maintenance doors persons luggage_boot safety\n",
      "0  vhigh       vhigh     2       2        small    low\n",
      "1  vhigh       vhigh     2       2        small    med\n",
      "2  vhigh       vhigh     2       2        small   high\n",
      "3  vhigh       vhigh     2       2          med    low\n",
      "4  vhigh       vhigh     2       2          med    med\n",
      "0\n",
      "1\n",
      "2\n",
      "3\n",
      "4\n",
      "5\n"
     ]
    },
    {
     "name": "stderr",
     "output_type": "stream",
     "text": [
      "c:\\Users\\Alexd\\anaconda3\\lib\\site-packages\\sklearn\\utils\\validation.py:63: DataConversionWarning: A column-vector y was passed when a 1d array was expected. Please change the shape of y to (n_samples, ), for example using ravel().\n",
      "  return f(*args, **kwargs)\n"
     ]
    }
   ],
   "source": [
    "test_df = pd.read_csv(\"datasets/car_dataset.csv\")\n",
    "heads = list(test_df.columns)\n",
    "heads.remove(\"class\")\n",
    "print(heads)\n",
    "\n",
    "print(test_df[heads].head())\n",
    "feature_set = test_df[heads].values\n",
    "label_set = test_df[[\"class\"]].values\n",
    "\n",
    "\n",
    "\n",
    "# train_x, test_x, train_y, test_y = train_test_split(feature_set, label_set)\n",
    "\n",
    "LE = LabelEncoder()\n",
    "for x in range(0,len(list(test_df[heads]))):\n",
    "    print(x)\n",
    "    feature_set[:,x] = LE.fit_transform(feature_set[:,x])\n",
    "\n",
    "label_set = LE.fit_transform(label_set)\n",
    "\n",
    "train_x, test_x, train_y, test_y = train_test_split(feature_set, label_set, test_size=0.1)\n"
   ]
  },
  {
   "cell_type": "code",
   "execution_count": 36,
   "metadata": {},
   "outputs": [
    {
     "data": {
      "text/plain": [
       "DecisionTreeClassifier()"
      ]
     },
     "execution_count": 36,
     "metadata": {},
     "output_type": "execute_result"
    }
   ],
   "source": [
    "\n",
    "\n",
    "test_tree = tree.DecisionTreeClassifier()\n",
    "\n",
    "test_tree.fit(train_x, train_y)"
   ]
  },
  {
   "cell_type": "code",
   "execution_count": 38,
   "metadata": {},
   "outputs": [
    {
     "name": "stdout",
     "output_type": "stream",
     "text": [
      "We have an accuracy score of 0.9710982658959537\n"
     ]
    }
   ],
   "source": [
    "predictions = test_tree.predict(test_x)\n",
    "\n",
    "acc = accuracy_score(test_y, predictions)\n",
    "\n",
    "print(\"We have an accuracy score of {}\".format(acc))"
   ]
  }
 ],
 "metadata": {
  "kernelspec": {
   "display_name": "base",
   "language": "python",
   "name": "python3"
  },
  "language_info": {
   "codemirror_mode": {
    "name": "ipython",
    "version": 3
   },
   "file_extension": ".py",
   "mimetype": "text/x-python",
   "name": "python",
   "nbconvert_exporter": "python",
   "pygments_lexer": "ipython3",
   "version": "3.8.8"
  },
  "orig_nbformat": 4,
  "vscode": {
   "interpreter": {
    "hash": "a6df0444a2b6adc38b6b167ee2f73acb37427875d298a936e2e26d4fdff21ebd"
   }
  }
 },
 "nbformat": 4,
 "nbformat_minor": 2
}
