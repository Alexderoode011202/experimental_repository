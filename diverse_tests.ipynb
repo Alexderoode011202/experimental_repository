{
 "cells": [
  {
   "cell_type": "code",
   "execution_count": 3,
   "metadata": {},
   "outputs": [
    {
     "name": "stdout",
     "output_type": "stream",
     "text": [
      "Hello! :\n"
     ]
    }
   ],
   "source": [
    "some_word: str = \"Hello! :D\"\n",
    "\n",
    "print(some_word[:-1])"
   ]
  },
  {
   "cell_type": "code",
   "execution_count": 3,
   "metadata": {},
   "outputs": [],
   "source": [
    "def func_1(par = \"no input\") ->None:\n",
    "    print(par)\n",
    "\n",
    "def func_2(par) -> None:\n",
    "    print(par)\n"
   ]
  },
  {
   "cell_type": "code",
   "execution_count": 2,
   "metadata": {},
   "outputs": [
    {
     "name": "stdout",
     "output_type": "stream",
     "text": [
      "<function <lambda> at 0x000001E1588BE820>\n"
     ]
    }
   ],
   "source": [
    "from functools import partial\n",
    "print(lambda: [partial(func_1, \"aaa\"), partial(func_2), \"bbb\"])"
   ]
  },
  {
   "cell_type": "code",
   "execution_count": 4,
   "metadata": {},
   "outputs": [
    {
     "name": "stdout",
     "output_type": "stream",
     "text": [
      "no input\n",
      "howdy!\n"
     ]
    }
   ],
   "source": [
    "from tkinter import *\n",
    "string = \"howdy!\"\n",
    "\n",
    "root = Tk()\n",
    "\n",
    "test = Button(root, text=\"test\", command=lambda: [func_1(), func_2(string)])\n",
    "\n",
    "test.pack()\n",
    "\n",
    "root.mainloop()"
   ]
  }
 ],
 "metadata": {
  "kernelspec": {
   "display_name": "base",
   "language": "python",
   "name": "python3"
  },
  "language_info": {
   "codemirror_mode": {
    "name": "ipython",
    "version": 3
   },
   "file_extension": ".py",
   "mimetype": "text/x-python",
   "name": "python",
   "nbconvert_exporter": "python",
   "pygments_lexer": "ipython3",
   "version": "3.8.8"
  },
  "orig_nbformat": 4,
  "vscode": {
   "interpreter": {
    "hash": "a6df0444a2b6adc38b6b167ee2f73acb37427875d298a936e2e26d4fdff21ebd"
   }
  }
 },
 "nbformat": 4,
 "nbformat_minor": 2
}
