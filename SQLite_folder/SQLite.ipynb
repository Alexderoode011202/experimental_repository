{
 "cells": [
  {
   "cell_type": "code",
   "execution_count": 2,
   "metadata": {},
   "outputs": [],
   "source": [
    "# SQLite comes by default with python so there is no need for any fancy pip install things\n",
    "# Just import the module like any other module\n",
    "import sqlite3 as sqlite"
   ]
  },
  {
   "cell_type": "code",
   "execution_count": 3,
   "metadata": {},
   "outputs": [],
   "source": [
    "# In order to get access to a database we first have to connect to one.\n",
    "# If the one in the .connect() method does not lead to an existing database\n",
    "# it will create a new one instead\n",
    "\n",
    "conn = sqlite.connect(\"Very_First_Database.db\")"
   ]
  },
  {
   "cell_type": "code",
   "execution_count": 4,
   "metadata": {},
   "outputs": [],
   "source": [
    "# After connecting to a database or creating a new one\n",
    "# It is essential to create a cursor object\n",
    "# A cursor object is an object that helps you in gathering the data from the database in an efficient manner\n",
    "\n",
    "cursor = conn.cursor()"
   ]
  },
  {
   "cell_type": "code",
   "execution_count": null,
   "metadata": {},
   "outputs": [],
   "source": []
  }
 ],
 "metadata": {
  "kernelspec": {
   "display_name": "base",
   "language": "python",
   "name": "python3"
  },
  "language_info": {
   "codemirror_mode": {
    "name": "ipython",
    "version": 3
   },
   "file_extension": ".py",
   "mimetype": "text/x-python",
   "name": "python",
   "nbconvert_exporter": "python",
   "pygments_lexer": "ipython3",
   "version": "3.8.8"
  },
  "orig_nbformat": 4,
  "vscode": {
   "interpreter": {
    "hash": "a6df0444a2b6adc38b6b167ee2f73acb37427875d298a936e2e26d4fdff21ebd"
   }
  }
 },
 "nbformat": 4,
 "nbformat_minor": 2
}
