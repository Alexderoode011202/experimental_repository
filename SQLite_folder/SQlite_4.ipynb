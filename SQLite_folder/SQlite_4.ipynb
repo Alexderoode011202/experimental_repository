{
 "cells": [
  {
   "cell_type": "code",
   "execution_count": 1,
   "metadata": {},
   "outputs": [],
   "source": [
    "import sqlite3 as sqlite\n",
    "from sqlite3 import Cursor"
   ]
  },
  {
   "cell_type": "code",
   "execution_count": 2,
   "metadata": {},
   "outputs": [],
   "source": [
    "conn = sqlite.connect(\"Very_First_Database.db\")\n",
    "cursor = conn.cursor()"
   ]
  },
  {
   "cell_type": "code",
   "execution_count": 3,
   "metadata": {},
   "outputs": [
    {
     "data": {
      "text/plain": [
       "<sqlite3.Cursor at 0x18f21f74810>"
      ]
     },
     "execution_count": 3,
     "metadata": {},
     "output_type": "execute_result"
    }
   ],
   "source": [
    "cursor.execute(\"INSERT INTO third_bloody_table VALUES ('value_1', 'value_2', 'value_3')\")"
   ]
  },
  {
   "cell_type": "code",
   "execution_count": 4,
   "metadata": {},
   "outputs": [],
   "source": [
    "conn.commit()"
   ]
  },
  {
   "attachments": {},
   "cell_type": "markdown",
   "metadata": {},
   "source": [
    "Now we are going to fetch and query things from our database.\n",
    "In order to query the data we need to make use of the fetch function"
   ]
  },
  {
   "cell_type": "code",
   "execution_count": 6,
   "metadata": {},
   "outputs": [
    {
     "name": "stdout",
     "output_type": "stream",
     "text": [
      "('Pootis', 'Mann', 'PootisMann@Twofort.com')\n"
     ]
    }
   ],
   "source": [
    "def query_data(database_path: str, database_table: str, amount: int = 0) -> None:\n",
    "    new_connection = sqlite.connect(database_path)\n",
    "    new_cursor: Cursor = new_connection.cursor()\n",
    "    \n",
    "    if amount == 0:\n",
    "        print(new_cursor.execute(f\"SELECT * FROM {database_table}\").fetchall())\n",
    "    elif amount == 1:\n",
    "        print(new_cursor.execute(f\"SELECT * FROM {database_table}\").fetchone())\n",
    "    else:\n",
    "        print(new_cursor.execute(f\"SELECT * FROM {database_table}\").fetchmany(amount))\n",
    "    \n",
    "    return None\n",
    "\n",
    "query_data(database_path=\"Very_First_Database.db\", database_table= \"third_bloody_table\", amount=1)\n"
   ]
  },
  {
   "cell_type": "code",
   "execution_count": 15,
   "metadata": {},
   "outputs": [
    {
     "name": "stdout",
     "output_type": "stream",
     "text": [
      "FIRST_NAME\tLAST_NAME\tEMAIL\n",
      "----\t\t----\t\t----\n",
      "1: Pootis\tMann\tPootisMann@Twofort.com\n",
      "--------\n",
      "2: Pootis\tMann\tPootisMann@Twofort.com\n",
      "--------\n",
      "3: Medic\tMedimedes\tMedic@Medimedes.com\n",
      "--------\n",
      "4: Apples\tSniper\tApples@Sniper.com\n",
      "--------\n",
      "5: Easter\tBunny\tEaster@Bunny.com\n",
      "--------\n",
      "6: Pootis\tMann\tPootisMann@Twofort.com\n",
      "--------\n",
      "7: Medic\tMedimedes\tMedic@Medimedes.com\n",
      "--------\n",
      "8: Apples\tSniper\tApples@Sniper.com\n",
      "--------\n",
      "9: Easter\tBunny\tEaster@Bunny.com\n",
      "--------\n",
      "10: value_1\tvalue_2\tvalue_3\n",
      "--------\n",
      "11: value_1\tvalue_2\tvalue_3\n",
      "--------\n",
      "12: value_1\tvalue_2\tvalue_3\n",
      "--------\n",
      "13: value_1\tvalue_2\tvalue_3\n",
      "--------\n"
     ]
    }
   ],
   "source": [
    "new_conn = sqlite.connect(\"Very_First_Database.db\")\n",
    "new_cursor: Cursor = new_conn.cursor()\n",
    "\n",
    "new_cursor.execute(\"SELECT rowid, * FROM third_bloody_table\")\n",
    "\n",
    "items =new_cursor.fetchall()\n",
    "\n",
    "print(\"FIRST_NAME\\tLAST_NAME\\tEMAIL\")\n",
    "print(\"----\\t\\t----\\t\\t----\")\n",
    "for id, first, last, email in items:\n",
    "    print(f\"{id}: {first}\\t{last}\\t{email}\")\n",
    "    print(\"--------\")\n",
    "\n",
    "new_conn.commit()\n",
    "new_conn.close()"
   ]
  },
  {
   "cell_type": "code",
   "execution_count": 21,
   "metadata": {},
   "outputs": [
    {
     "name": "stdout",
     "output_type": "stream",
     "text": [
      "(1, 'Pootis', 'Mann', 'PootisMann@Twofort.com')\n"
     ]
    }
   ],
   "source": [
    "new_conn = sqlite.connect(\"Very_First_Database.db\")\n",
    "new_cursor = new_conn.cursor()\n",
    "\n",
    "new_cursor.execute(\"SELECT rowid,* FROM third_bloody_table\")\n",
    "\n",
    "print(new_cursor.fetchone())"
   ]
  }
 ],
 "metadata": {
  "kernelspec": {
   "display_name": "base",
   "language": "python",
   "name": "python3"
  },
  "language_info": {
   "codemirror_mode": {
    "name": "ipython",
    "version": 3
   },
   "file_extension": ".py",
   "mimetype": "text/x-python",
   "name": "python",
   "nbconvert_exporter": "python",
   "pygments_lexer": "ipython3",
   "version": "3.8.8"
  },
  "orig_nbformat": 4,
  "vscode": {
   "interpreter": {
    "hash": "a6df0444a2b6adc38b6b167ee2f73acb37427875d298a936e2e26d4fdff21ebd"
   }
  }
 },
 "nbformat": 4,
 "nbformat_minor": 2
}
