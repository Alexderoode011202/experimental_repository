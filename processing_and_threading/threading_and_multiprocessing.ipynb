{
 "cells": [
  {
   "attachments": {},
   "cell_type": "markdown",
   "metadata": {},
   "source": [
    "process:\n",
    "-take advantage of multiple CPU's and cores\n",
    "-Can have multiple threads\n",
    "-have seperate memory space (memory is not shared)\n",
    "-multiprocessing allows processing on different CPUs which speeds up the code\n",
    "-gets started independently from other processes\n",
    "-is killable/interruptable\n",
    "-one GIL per process (avoids GIL limitation)\n",
    "-is slower than starting a thread\n",
    "-interprocess communication has to be taken care of\n",
    "\n",
    "thread:\n",
    "-entity within process\n",
    "-share the same memory in a process\n",
    "-much more lightweight\n",
    "-good for input/output tasks\n",
    "-GIL allows only one thread at a time\n",
    "-has no effect for CPU-bound tasks (due to GIL)\n",
    "-carefull with races\n",
    "-not killable/interruptable"
   ]
  },
  {
   "cell_type": "code",
   "execution_count": 1,
   "metadata": {},
   "outputs": [
    {
     "name": "stdout",
     "output_type": "stream",
     "text": [
      "8\n",
      "End Main\n"
     ]
    }
   ],
   "source": [
    "from multiprocessing import process, Process\n",
    "import os\n",
    "from typing import List\n",
    "import time\n",
    "def squared():\n",
    "    for i in range(100):\n",
    "        i* i\n",
    "        time.sleep(0.001)\n",
    "\n",
    "print(os.cpu_count())\n",
    "processes: List[Process]= []\n",
    "num_processes: int = os.cpu_count()\n",
    "\n",
    "for i in range(num_processes):\n",
    "    p = Process(target=squared())\n",
    "    processes.append(p)\n",
    "\n",
    "# Start\n",
    "for p in processes:\n",
    "    p.start()\n",
    "\n",
    "# Join\n",
    "for p in processes:\n",
    "    p.join()\n",
    "\n",
    "print(\"End Main\")"
   ]
  },
  {
   "cell_type": "code",
   "execution_count": null,
   "metadata": {},
   "outputs": [],
   "source": [
    "from threading import Thread\n",
    "threads: List[Thread] = []\n",
    "num_threads: int = 10\n",
    "\n",
    "for x in range(num_threads):\n",
    "    t = Thread(target= squared())\n",
    "\n",
    "for t in threads:\n",
    "    t.start()\n",
    "\n",
    "for t in threads:\n",
    "    t.join()\n"
   ]
  }
 ],
 "metadata": {
  "kernelspec": {
   "display_name": "base",
   "language": "python",
   "name": "python3"
  },
  "language_info": {
   "codemirror_mode": {
    "name": "ipython",
    "version": 3
   },
   "file_extension": ".py",
   "mimetype": "text/x-python",
   "name": "python",
   "nbconvert_exporter": "python",
   "pygments_lexer": "ipython3",
   "version": "3.8.8"
  },
  "orig_nbformat": 4,
  "vscode": {
   "interpreter": {
    "hash": "a6df0444a2b6adc38b6b167ee2f73acb37427875d298a936e2e26d4fdff21ebd"
   }
  }
 },
 "nbformat": 4,
 "nbformat_minor": 2
}
