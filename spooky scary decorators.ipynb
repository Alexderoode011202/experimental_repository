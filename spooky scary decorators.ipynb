{
 "cells": [
  {
   "cell_type": "code",
   "execution_count": 32,
   "metadata": {},
   "outputs": [
    {
     "name": "stdout",
     "output_type": "stream",
     "text": [
      "Starting function\n",
      "hello buddy\n",
      "Ended function\n"
     ]
    }
   ],
   "source": [
    "\"\"\" \n",
    "Decorators are a way to customize a function before and after the function does its job\n",
    "A way to create a decorator in the old-school, not-so-smart kind of way is as follows\n",
    "\"\"\"\n",
    "from typing import Union\n",
    "\n",
    "def beginning_and_end(func):\n",
    "    def wrapper(*args, **kwargs):\n",
    "        print(\"Starting function\")\n",
    "        func(*args, **kwargs)\n",
    "        print(\"Ended function\")\n",
    "\n",
    "    return wrapper\n",
    "\n",
    "# Here we create our own function\n",
    "def greeter_func(name: str):\n",
    "    print(\"hello {}\".format(name))\n",
    "\n",
    "# Here we state that the expanded_greeter is the wrapper function which has the greeter_func in it\n",
    "expanded_greeter = beginning_and_end(greeter_func)\n",
    "\n",
    "# And here we let expanded_greeter run to see what has happened\n",
    "expanded_greeter(\"buddy\")\n",
    "\n",
    "# *args contains all the arguments a function can receive\n",
    "# *kwargs contains all the keyword argument a function can receive\n",
    "\n",
    "# name= \"something\" is a keyword argument\n",
    "# \"something\" is an argument\n",
    "\n"
   ]
  },
  {
   "cell_type": "code",
   "execution_count": 47,
   "metadata": {},
   "outputs": [
    {
     "ename": "SyntaxError",
     "evalue": "invalid syntax (<ipython-input-47-8d9df7e83796>, line 61)",
     "output_type": "error",
     "traceback": [
      "\u001b[1;36m  File \u001b[1;32m\"<ipython-input-47-8d9df7e83796>\"\u001b[1;36m, line \u001b[1;32m61\u001b[0m\n\u001b[1;33m    creates_5_numbers()\u001b[0m\n\u001b[1;37m    ^\u001b[0m\n\u001b[1;31mSyntaxError\u001b[0m\u001b[1;31m:\u001b[0m invalid syntax\n"
     ]
    }
   ],
   "source": [
    "from typing import List\n",
    "from random import choice\n",
    "# The way to make a decorator function of this, is as follows:\n",
    "\n",
    "# Here we create the decorator\n",
    "def only_end(func):\n",
    "    def wrapper(*args, **kwargs):\n",
    "        func(*args, **kwargs)\n",
    "        print(\"Thank you for using this function!\")\n",
    "        print(\"Goodbye!\")\n",
    "\n",
    "    return wrapper\n",
    "\n",
    "# Here we use the decorator\n",
    "# When making use of a decorator, it is important to define the function after that\n",
    "@only_end\n",
    "def greeter_function(name: str):\n",
    "    print(\"hello, {}\".format(name))\n",
    "    \n",
    "\n",
    "greeter_function(\"Someone\")\n",
    "\n",
    "# However, when you want to return something, it is important to return something inside the wrapper function\n",
    "\n",
    "\n",
    "def adds_up(func):\n",
    "    def wrapper(*args, **kwargs):\n",
    "        number_list: List[int] = func(*args, **kwargs)\n",
    "        answer: int = 0\n",
    "        for num in number_list:\n",
    "            answer+= num\n",
    "        print(\"Added up the numbers are: {}\".format(answer))\n",
    "        return answer\n",
    "    return wrapper\n",
    "\n",
    "@adds_up\n",
    "def creates_n_numbers(n: int) -> List[int]:\n",
    "    num_list: List[int] = []\n",
    "    for _ in range(0,n):\n",
    "        num_list.append(choice(range(0, 11)))\n",
    "    \n",
    "    print(num_list)\n",
    "    return num_list\n",
    "\n",
    "\n",
    "creates_n_numbers(n= 3)\n",
    "\n",
    "\n",
    "def creates_5_numbers():\n",
    "    num_list: List[int] = []\n",
    "    for _ in range(0,5):\n",
    "        num_list.append(choice(range(0, 11)))\n",
    "\n",
    "    \n",
    "    return num_list\n",
    "\n",
    "\n",
    "print(creates_5_numbers())\n",
    "\n",
    "@adds_up\n",
    "creates_5_numbers()"
   ]
  }
 ],
 "metadata": {
  "kernelspec": {
   "display_name": "base",
   "language": "python",
   "name": "python3"
  },
  "language_info": {
   "codemirror_mode": {
    "name": "ipython",
    "version": 3
   },
   "file_extension": ".py",
   "mimetype": "text/x-python",
   "name": "python",
   "nbconvert_exporter": "python",
   "pygments_lexer": "ipython3",
   "version": "3.8.8"
  },
  "orig_nbformat": 4,
  "vscode": {
   "interpreter": {
    "hash": "a6df0444a2b6adc38b6b167ee2f73acb37427875d298a936e2e26d4fdff21ebd"
   }
  }
 },
 "nbformat": 4,
 "nbformat_minor": 2
}
