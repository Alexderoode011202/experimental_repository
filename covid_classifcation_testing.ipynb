{
 "cells": [
  {
   "cell_type": "code",
   "execution_count": 33,
   "metadata": {},
   "outputs": [
    {
     "name": "stdout",
     "output_type": "stream",
     "text": [
      "AGE           int64\n",
      "SEX           int64\n",
      "OBESITY       int64\n",
      "TOBACCO       int64\n",
      "DATE_DIED    object\n",
      "dtype: object\n",
      "[[65  1  2  2]\n",
      " [72  2  1  2]\n",
      " [55  2  2  2]\n",
      " ...\n",
      " [55  2  2  2]\n",
      " [28  2  2  2]\n",
      " [52  2  2  2]]\n",
      "[['03/05/2020']\n",
      " ['03/06/2020']\n",
      " ['09/06/2020']\n",
      " ...\n",
      " ['9999-99-99']\n",
      " ['9999-99-99']\n",
      " ['9999-99-99']]\n",
      "0    [0]\n",
      "1    [0]\n",
      "2    [0]\n",
      "3    [0]\n",
      "4    [0]\n",
      "dtype: object\n"
     ]
    }
   ],
   "source": [
    "# Here I try messing around with classification ML's and the Covid Data file\n",
    "# Let's start with examining our data first\n",
    "\n",
    "import pandas as pd\n",
    "from sklearn.model_selection import train_test_split\n",
    "\n",
    "dataset = pd.read_csv(\"datasets/Covid Data.csv\")\n",
    "\n",
    "dataset = dataset[[\"AGE\", \"SEX\", \"OBESITY\", \"TOBACCO\", \"DATE_DIED\"]]\n",
    "print(dataset.dtypes)\n",
    "\n",
    "feature_set= dataset.drop(\"DATE_DIED\", axis=1).values\n",
    "label_set = dataset[[\"DATE_DIED\"]].values\n",
    "\n",
    "print(feature_set)\n",
    "print(label_set)\n",
    "\n",
    "encoded_label_set: list = []\n",
    "for line in label_set:\n",
    "    if line == [\"9999-99-99\"]:\n",
    "        encoded_label_set.append([1])\n",
    "    else:\n",
    "        encoded_label_set.append([0])\n",
    "\n",
    "test_series = pd.Series(encoded_label_set)\n",
    "print(test_series.head())\n",
    "\n",
    "train_x, test_x, train_y, test_y = train_test_split(feature_set, encoded_label_set, test_size = 0.1)\n",
    "\n",
    "\n",
    "\n"
   ]
  },
  {
   "cell_type": "code",
   "execution_count": 35,
   "metadata": {},
   "outputs": [
    {
     "name": "stderr",
     "output_type": "stream",
     "text": [
      "c:\\Users\\Alexd\\anaconda3\\lib\\site-packages\\sklearn\\neighbors\\_classification.py:179: DataConversionWarning: A column-vector y was passed when a 1d array was expected. Please change the shape of y to (n_samples,), for example using ravel().\n",
      "  return self._fit(X, y)\n"
     ]
    },
    {
     "data": {
      "text/plain": [
       "KNeighborsClassifier(n_neighbors=10)"
      ]
     },
     "execution_count": 35,
     "metadata": {},
     "output_type": "execute_result"
    }
   ],
   "source": [
    "# Now we have the data split up nice and well\n",
    "# It is time to start choosing a model...\n",
    "\n",
    "from sklearn.neighbors import KNeighborsClassifier\n",
    "\n",
    "knn = KNeighborsClassifier(n_neighbors = 10, weights= \"uniform\")\n",
    "\n",
    "knn.fit(train_x, train_y)\n"
   ]
  },
  {
   "cell_type": "code",
   "execution_count": 38,
   "metadata": {},
   "outputs": [],
   "source": [
    "prediction = knn.predict(test_x)\n",
    "\n"
   ]
  },
  {
   "cell_type": "code",
   "execution_count": 39,
   "metadata": {},
   "outputs": [
    {
     "name": "stdout",
     "output_type": "stream",
     "text": [
      "The accuracy score is: 0.9204734021247782\n"
     ]
    }
   ],
   "source": [
    "from sklearn import metrics\n",
    "\n",
    "accuracy_score = metrics.accuracy_score(test_y, prediction)\n",
    "\n",
    "print(f\"The accuracy score is: {accuracy_score}\")"
   ]
  }
 ],
 "metadata": {
  "kernelspec": {
   "display_name": "base",
   "language": "python",
   "name": "python3"
  },
  "language_info": {
   "codemirror_mode": {
    "name": "ipython",
    "version": 3
   },
   "file_extension": ".py",
   "mimetype": "text/x-python",
   "name": "python",
   "nbconvert_exporter": "python",
   "pygments_lexer": "ipython3",
   "version": "3.8.8 (default, Apr 13 2021, 15:08:03) [MSC v.1916 64 bit (AMD64)]"
  },
  "orig_nbformat": 4,
  "vscode": {
   "interpreter": {
    "hash": "a6df0444a2b6adc38b6b167ee2f73acb37427875d298a936e2e26d4fdff21ebd"
   }
  }
 },
 "nbformat": 4,
 "nbformat_minor": 2
}
