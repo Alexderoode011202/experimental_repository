{
 "cells": [
  {
   "cell_type": "code",
   "execution_count": 2,
   "metadata": {},
   "outputs": [
    {
     "name": "stdout",
     "output_type": "stream",
     "text": [
      "\n"
     ]
    }
   ],
   "source": [
    "\"\"\" \n",
    "--Function parameters vs function arguments--\n",
    "\n",
    "parameters: variables defined in the parenthesis when defining a function\n",
    "arguments: the values passed in the parenthesis when calling a function\n",
    "\n",
    "--postional arguments vs keyword arguments--\n",
    "\n",
    "when callin a function there are multiple ways to pass in the arguments\n",
    "You can choose to actually write the keyword, followed by an equal-sign, followed by the actual argument.\n",
    "An example of this would be: some_func(param_a = 1, param = 3)\n",
    "\n",
    "However, this syntax is not required. When calling a function, you can choose to avoid writing the function parameters alltogether.\n",
    "This means that all you have to write in are the arguments and that's it. And example of that would look like something like this:\n",
    "some_func(1,2)\n",
    "The way python links each argument to each parameter is by using the position in which they were defined,\n",
    "assigned 1 to param_a and 2 to param_b due to the fact that's how the parameters line up to the arguments in terms of positions.\n",
    "\n",
    "! Make sure to either use only keyword arguments or positional arguments !\n",
    "\"\"\"\n",
    "\n",
    "print(\"\")"
   ]
  },
  {
   "cell_type": "code",
   "execution_count": 21,
   "metadata": {},
   "outputs": [
    {
     "name": "stdout",
     "output_type": "stream",
     "text": [
      "args()\n",
      "kwargs:{'screech': 'yodeladeleehee'}\n",
      "<class 'str'>\n",
      "<class 'str'>\n"
     ]
    }
   ],
   "source": [
    "\"\"\" \n",
    "-- *args and **kwargs --\n",
    "\"\"\"\n",
    "\n",
    "def another_weird_function(*args: str, **kwargs: int):\n",
    "    print(f\"args{args}\")\n",
    "    print(f\"kwargs:{kwargs}\")\n",
    "\n",
    "another_weird_function(screech=\"yodeladeleehee\")\n",
    "\n",
    "def third_test(x: str) -> None:\n",
    "    type_msg: str = str(type(x))\n",
    "    print(type_msg)\n",
    "    if type_msg == \"<class 'int'>\":\n",
    "        print(\"Whaatt??\")\n",
    "    else:\n",
    "        print(type(x))\n",
    "\n",
    "third_test('Nope')\n",
    "\n"
   ]
  }
 ],
 "metadata": {
  "kernelspec": {
   "display_name": "base",
   "language": "python",
   "name": "python3"
  },
  "language_info": {
   "codemirror_mode": {
    "name": "ipython",
    "version": 3
   },
   "file_extension": ".py",
   "mimetype": "text/x-python",
   "name": "python",
   "nbconvert_exporter": "python",
   "pygments_lexer": "ipython3",
   "version": "3.8.8"
  },
  "orig_nbformat": 4,
  "vscode": {
   "interpreter": {
    "hash": "a6df0444a2b6adc38b6b167ee2f73acb37427875d298a936e2e26d4fdff21ebd"
   }
  }
 },
 "nbformat": 4,
 "nbformat_minor": 2
}
