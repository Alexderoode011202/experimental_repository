{
 "cells": [
  {
   "cell_type": "code",
   "execution_count": 2,
   "metadata": {},
   "outputs": [],
   "source": [
    "# First we import all the needed modules\n",
    "\n",
    "from sklearn import datasets\n",
    "from sklearn import linear_model\n",
    "from sklearn.preprocessing import LabelEncoder # Appears to not be needed\n",
    "from sklearn.model_selection import train_test_split\n",
    "from matplotlib import pyplot as plt\n",
    "from sklearn.metrics import accuracy_score\n",
    "import pandas as pd"
   ]
  },
  {
   "cell_type": "code",
   "execution_count": 3,
   "metadata": {},
   "outputs": [
    {
     "ename": "ImportError",
     "evalue": "\n`load_boston` has been removed from scikit-learn since version 1.2.\n\nThe Boston housing prices dataset has an ethical problem: as\ninvestigated in [1], the authors of this dataset engineered a\nnon-invertible variable \"B\" assuming that racial self-segregation had a\npositive impact on house prices [2]. Furthermore the goal of the\nresearch that led to the creation of this dataset was to study the\nimpact of air quality but it did not give adequate demonstration of the\nvalidity of this assumption.\n\nThe scikit-learn maintainers therefore strongly discourage the use of\nthis dataset unless the purpose of the code is to study and educate\nabout ethical issues in data science and machine learning.\n\nIn this special case, you can fetch the dataset from the original\nsource::\n\n    import pandas as pd\n    import numpy as np\n\n    data_url = \"http://lib.stat.cmu.edu/datasets/boston\"\n    raw_df = pd.read_csv(data_url, sep=\"\\s+\", skiprows=22, header=None)\n    data = np.hstack([raw_df.values[::2, :], raw_df.values[1::2, :2]])\n    target = raw_df.values[1::2, 2]\n\nAlternative datasets include the California housing dataset and the\nAmes housing dataset. You can load the datasets as follows::\n\n    from sklearn.datasets import fetch_california_housing\n    housing = fetch_california_housing()\n\nfor the California housing dataset and::\n\n    from sklearn.datasets import fetch_openml\n    housing = fetch_openml(name=\"house_prices\", as_frame=True)\n\nfor the Ames housing dataset.\n\n[1] M Carlisle.\n\"Racist data destruction?\"\n<https://medium.com/@docintangible/racist-data-destruction-113e3eff54a8>\n\n[2] Harrison Jr, David, and Daniel L. Rubinfeld.\n\"Hedonic housing prices and the demand for clean air.\"\nJournal of environmental economics and management 5.1 (1978): 81-102.\n<https://www.researchgate.net/publication/4974606_Hedonic_housing_prices_and_the_demand_for_clean_air>\n",
     "output_type": "error",
     "traceback": [
      "\u001b[1;31m---------------------------------------------------------------------------\u001b[0m",
      "\u001b[1;31mImportError\u001b[0m                               Traceback (most recent call last)",
      "\u001b[1;32m<ipython-input-3-8bc22e9eb3af>\u001b[0m in \u001b[0;36m<module>\u001b[1;34m\u001b[0m\n\u001b[0;32m      1\u001b[0m \u001b[1;31m# Load in dataset\u001b[0m\u001b[1;33m\u001b[0m\u001b[1;33m\u001b[0m\u001b[1;33m\u001b[0m\u001b[0m\n\u001b[0;32m      2\u001b[0m \u001b[1;31m# And split the dataset into train_x, test_x, train_y, test_y\u001b[0m\u001b[1;33m\u001b[0m\u001b[1;33m\u001b[0m\u001b[1;33m\u001b[0m\u001b[0m\n\u001b[1;32m----> 3\u001b[1;33m \u001b[0mboston\u001b[0m \u001b[1;33m=\u001b[0m \u001b[0mdatasets\u001b[0m\u001b[1;33m.\u001b[0m\u001b[0mload_boston\u001b[0m\u001b[1;33m(\u001b[0m\u001b[1;33m)\u001b[0m\u001b[1;33m\u001b[0m\u001b[1;33m\u001b[0m\u001b[0m\n\u001b[0m\u001b[0;32m      4\u001b[0m \u001b[0mfeature_set\u001b[0m \u001b[1;33m=\u001b[0m \u001b[0mboston\u001b[0m\u001b[1;33m.\u001b[0m\u001b[0mdata\u001b[0m\u001b[1;33m\u001b[0m\u001b[1;33m\u001b[0m\u001b[0m\n\u001b[0;32m      5\u001b[0m \u001b[0mlabel_set\u001b[0m \u001b[1;33m=\u001b[0m \u001b[0mboston\u001b[0m\u001b[1;33m.\u001b[0m\u001b[0mtarget\u001b[0m\u001b[1;33m\u001b[0m\u001b[1;33m\u001b[0m\u001b[0m\n",
      "\u001b[1;32mc:\\Users\\Alexd\\anaconda3\\lib\\site-packages\\sklearn\\datasets\\__init__.py\u001b[0m in \u001b[0;36m__getattr__\u001b[1;34m(name)\u001b[0m\n\u001b[0;32m    154\u001b[0m             \"\"\"\n\u001b[0;32m    155\u001b[0m         )\n\u001b[1;32m--> 156\u001b[1;33m         \u001b[1;32mraise\u001b[0m \u001b[0mImportError\u001b[0m\u001b[1;33m(\u001b[0m\u001b[0mmsg\u001b[0m\u001b[1;33m)\u001b[0m\u001b[1;33m\u001b[0m\u001b[1;33m\u001b[0m\u001b[0m\n\u001b[0m\u001b[0;32m    157\u001b[0m     \u001b[1;32mtry\u001b[0m\u001b[1;33m:\u001b[0m\u001b[1;33m\u001b[0m\u001b[1;33m\u001b[0m\u001b[0m\n\u001b[0;32m    158\u001b[0m         \u001b[1;32mreturn\u001b[0m \u001b[0mglobals\u001b[0m\u001b[1;33m(\u001b[0m\u001b[1;33m)\u001b[0m\u001b[1;33m[\u001b[0m\u001b[0mname\u001b[0m\u001b[1;33m]\u001b[0m\u001b[1;33m\u001b[0m\u001b[1;33m\u001b[0m\u001b[0m\n",
      "\u001b[1;31mImportError\u001b[0m: \n`load_boston` has been removed from scikit-learn since version 1.2.\n\nThe Boston housing prices dataset has an ethical problem: as\ninvestigated in [1], the authors of this dataset engineered a\nnon-invertible variable \"B\" assuming that racial self-segregation had a\npositive impact on house prices [2]. Furthermore the goal of the\nresearch that led to the creation of this dataset was to study the\nimpact of air quality but it did not give adequate demonstration of the\nvalidity of this assumption.\n\nThe scikit-learn maintainers therefore strongly discourage the use of\nthis dataset unless the purpose of the code is to study and educate\nabout ethical issues in data science and machine learning.\n\nIn this special case, you can fetch the dataset from the original\nsource::\n\n    import pandas as pd\n    import numpy as np\n\n    data_url = \"http://lib.stat.cmu.edu/datasets/boston\"\n    raw_df = pd.read_csv(data_url, sep=\"\\s+\", skiprows=22, header=None)\n    data = np.hstack([raw_df.values[::2, :], raw_df.values[1::2, :2]])\n    target = raw_df.values[1::2, 2]\n\nAlternative datasets include the California housing dataset and the\nAmes housing dataset. You can load the datasets as follows::\n\n    from sklearn.datasets import fetch_california_housing\n    housing = fetch_california_housing()\n\nfor the California housing dataset and::\n\n    from sklearn.datasets import fetch_openml\n    housing = fetch_openml(name=\"house_prices\", as_frame=True)\n\nfor the Ames housing dataset.\n\n[1] M Carlisle.\n\"Racist data destruction?\"\n<https://medium.com/@docintangible/racist-data-destruction-113e3eff54a8>\n\n[2] Harrison Jr, David, and Daniel L. Rubinfeld.\n\"Hedonic housing prices and the demand for clean air.\"\nJournal of environmental economics and management 5.1 (1978): 81-102.\n<https://www.researchgate.net/publication/4974606_Hedonic_housing_prices_and_the_demand_for_clean_air>\n"
     ]
    }
   ],
   "source": [
    "# Load in dataset\n",
    "# And split the dataset into train_x, test_x, train_y, test_y\n",
    "boston = datasets.load_boston()\n",
    "feature_set = boston.data\n",
    "label_set = boston.target\n",
    "\n",
    "train_x, test_x, train_y, test_y = train_test_split(feature_set, label_set, test_size = 0.2)\n",
    "\n",
    "test_df = pd.DataFrame(feature_set)\n",
    "# colummns=[\"CRIM\", \"ZN\", \"INDUS\", \"CHAS\", \"NOX\", \"RM\", \"AGE\", \"DIS\", \"RAD\", \"TAX\", \"PT-RATIO\", \"B\", \"LSTAT\", \"MEDV\"]\n",
    "\n",
    "\n",
    "\n",
    "test_df.columns = [\"CRIM\", \"ZN\", \"INDUS\", \"CHAS\", \"NOX\", \"RM\", \"AGE\", \"DIS\", \"RAD\", \"TAX\", \"PT-RATIO\", \"LSTAT\", \"MEDV\"]\n",
    "\n",
    "print(test_df.head())\n",
    "\n",
    "print(test_df[[\"CRIM\"]])\n",
    "\n",
    "print(test_df.values)\n",
    "\n",
    "# plt.scatter(feature_set.T[5], label_set)\n",
    "\n",
    "plt.show()\n",
    "\n",
    "# Got a little off-track again >,>"
   ]
  },
  {
   "cell_type": "code",
   "execution_count": 29,
   "metadata": {},
   "outputs": [
    {
     "name": "stdout",
     "output_type": "stream",
     "text": [
      "Predictions = [30.40327667 19.34933543 13.25200434 16.97852776 19.23169167 16.87009058\n",
      " 20.56783153 23.08132248  9.55570441 29.3741694  22.27020996  6.35228031\n",
      " 17.38689072 23.48221618 21.9355281  28.42432538 24.09790808 14.59413116\n",
      " 12.0920227  19.49642461 30.46986529 15.08996817 12.92866636 28.67167529\n",
      " 12.50316038 15.71121843 19.02897265 12.52176595 33.45505976 23.25356968\n",
      " 20.58297052 15.14805559 25.15168446 30.09544659 18.2056614  27.42778849\n",
      " 30.55200855 30.3855139  24.33001824 20.56718311 17.8567293  16.83640461\n",
      " 20.32224833 16.87148669 19.40827331 39.64690362 37.82523227 22.42901236\n",
      " 23.5224485  32.42638424 34.42124657 19.95052408 18.59440655 23.07889041\n",
      " 22.72673893 25.80608612 28.33526682 18.41538145 25.02263132 20.83939101\n",
      " 21.51304666  8.61112095 19.85119275 43.52905791 25.02130273 13.74559958\n",
      "  9.92132783 26.84231271  7.70956835 15.154512   19.16377014 22.3160848\n",
      " 19.14518485 36.83198839 18.59241861 21.56846472 13.29013514 28.5295832\n",
      " 27.36459208 32.46034775 40.49610351 23.7200699  28.76672281 32.78523589\n",
      " 22.62978495 23.01375764 18.48397674 33.48773578 19.53318016  9.16383836\n",
      " 26.50777942 13.32332216 23.53032087 14.75399397 21.10127675 21.96057107\n",
      " 27.26783817  9.60915941 11.57581629 17.48257064 18.02103447 35.14886362]\n",
      "True values = [35.4 18.4 18.5 10.2 27.9 18.6 23.1 24.7 23.1 23.  19.8  7.4 18.1 20.3\n",
      " 22.2 22.8 50.  14.8 13.5 27.5 32.5 14.1 12.3 28.4  5.6 18.4 18.5 13.6\n",
      " 37.9 33.  18.3 15.  24.  29.1 16.6 22.  23.6 30.5 24.3 16.1 17.8 17.5\n",
      " 15.3 10.4 15.  50.  41.7 19.8 20.1 33.2 33.1 19.2 19.8 21.  17.4 22.\n",
      " 22.8 19.5 24.7 21.7 21.7  8.7 24.3 50.  50.  11.7 11.8 22.1  5.  17.2\n",
      " 16.7 17.8 19.9 44.  10.9 22.7 11.3 33.4 23.9 31.5 50.  19.2 28.6 36.1\n",
      " 20.3 22.6 20.1 32.  16.8 13.2 22.6 15.6 19.4 15.7 19.3 23.2 22.   7.2\n",
      " 12.7 19.6 22.5 33.2]\n",
      "regression score = 0.7383120780524627\n",
      "Test regression score =0.693352776919494\n",
      " coefficient = [-7.47140208e-02  3.56766649e-02  9.84007863e-03  2.56331766e+00\n",
      " -1.66497523e+01  3.98895917e+00 -9.14440965e-03 -1.45873264e+00\n",
      "  2.35360346e-01 -1.01523419e-02 -1.02758851e+00  1.07908485e-02\n",
      " -4.74887896e-01]\n",
      " intercept = 35.38476544221575\n"
     ]
    }
   ],
   "source": [
    "# Create a model\n",
    "\n",
    "regression = linear_model.LinearRegression()\n",
    "regression.fit(train_x, train_y)\n",
    "\n",
    "prediction = regression.predict(test_x)\n",
    "# print(f\"The linear regression model is for {accuracy_score(test_y, prediction)}% accurate.\")\n",
    "# Appearantly the accuracy_score() function does not work for linear regression\n",
    "# We need to find another metric\n",
    "\n",
    "print(f\"Predictions = {prediction}\")\n",
    "print(f\"True values = {test_y}\")\n",
    "print(f\"regression score = {regression.score(feature_set, label_set)}\")\n",
    "print(f\"Test regression score ={regression.score(test_x,test_y)}\")\n",
    "print(f\" coefficient = {regression.coef_}\")\n",
    "print(f\" intercept = {regression.intercept_}\")"
   ]
  },
  {
   "cell_type": "code",
   "execution_count": 27,
   "metadata": {},
   "outputs": [
    {
     "name": "stdout",
     "output_type": "stream",
     "text": [
      "-0.07471402075870992\n",
      "0.03567666488029947\n",
      "0.00984007863273317\n",
      "2.563317662855671\n",
      "-16.6497522783101\n",
      "3.9889591670930615\n",
      "-0.009144409654397851\n",
      "-1.458732643088456\n",
      "0.23536034597787536\n",
      "-0.010152341883078234\n",
      "-1.027588508018767\n",
      "0.010790848484225297\n",
      "-0.4748878962076948\n"
     ]
    },
    {
     "data": {
      "image/png": "[encoded data removed]",
      "text/plain": [
       "<Figure size 432x288 with 1 Axes>"
      ]
     },
     "metadata": {
      "needs_background": "light"
     },
     "output_type": "display_data"
    }
   ],
   "source": [
    "line_dict: dict = {}\n",
    "for thing in range(len(regression.coef_)):\n",
    "   # plt.scatter(thing, regression.coef_[thing])\n",
    "   print(regression.coef_[thing])\n",
    "   line_dict[thing] = regression.coef_[thing]\n",
    "\n",
    "plt.plot(list(line_dict.keys()), list(line_dict.values()))\n",
    "plt.show()\n"
   ]
  }
 ],
 "metadata": {
  "kernelspec": {
   "display_name": "base",
   "language": "python",
   "name": "python3"
  },
  "language_info": {
   "codemirror_mode": {
    "name": "ipython",
    "version": 3
   },
   "file_extension": ".py",
   "mimetype": "text/x-python",
   "name": "python",
   "nbconvert_exporter": "python",
   "pygments_lexer": "ipython3",
   "version": "3.8.8"
  },
  "orig_nbformat": 4,
  "vscode": {
   "interpreter": {
    "hash": "a6df0444a2b6adc38b6b167ee2f73acb37427875d298a936e2e26d4fdff21ebd"
   }
  }
 },
 "nbformat": 4,
 "nbformat_minor": 2
}
