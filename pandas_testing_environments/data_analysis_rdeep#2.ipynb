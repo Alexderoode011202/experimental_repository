{
 "cells": [
  {
   "cell_type": "code",
   "execution_count": 50,
   "metadata": {},
   "outputs": [
    {
     "name": "stdout",
     "output_type": "stream",
     "text": [
      "Index(['suit_opponent', 'value_opponent', 'trump_suit', 'stance_self',\n",
      "       'stance_opponent', 'relative_stance', 'best_move_suit',\n",
      "       'best_move_value', 'best_move_marriage', 'best_move_trump_exchange',\n",
      "       'possible_M', 'possible_TE', 'move_1', 'move_2', 'move_3', 'move_4',\n",
      "       'move_5', 'move_6', 'move_7', 'move_8', 'best_move', ' best_move_suit',\n",
      "       'best_move_value.1'],\n",
      "      dtype='object')\n",
      "(9261, 23)\n"
     ]
    }
   ],
   "source": [
    "import pandas as pd\n",
    "from typing import *\n",
    "rdeep= pd.read_csv(\"C:/Users/Alexd/Desktop/shade_shennanigans/dataset_rdeep_1.csv\")\n",
    "print(rdeep.columns)\n",
    "# C:\\Users\\Alexd\\Desktop\\shade_shennanigans\n",
    "print(rdeep.shape)\n"
   ]
  },
  {
   "cell_type": "code",
   "execution_count": 51,
   "metadata": {},
   "outputs": [
    {
     "data": {
      "text/html": [
       "<div>\n",
       "<style scoped>\n",
       "    .dataframe tbody tr th:only-of-type {\n",
       "        vertical-align: middle;\n",
       "    }\n",
       "\n",
       "    .dataframe tbody tr th {\n",
       "        vertical-align: top;\n",
       "    }\n",
       "\n",
       "    .dataframe thead th {\n",
       "        text-align: right;\n",
       "    }\n",
       "</style>\n",
       "<table border=\"1\" class=\"dataframe\">\n",
       "  <thead>\n",
       "    <tr style=\"text-align: right;\">\n",
       "      <th></th>\n",
       "      <th>suit_opponent</th>\n",
       "      <th>value_opponent</th>\n",
       "      <th>trump_suit</th>\n",
       "      <th>stance_self</th>\n",
       "      <th>stance_opponent</th>\n",
       "      <th>relative_stance</th>\n",
       "      <th>best_move_suit</th>\n",
       "      <th>best_move_value</th>\n",
       "      <th>best_move_marriage</th>\n",
       "      <th>best_move_trump_exchange</th>\n",
       "      <th>...</th>\n",
       "      <th>move_2</th>\n",
       "      <th>move_3</th>\n",
       "      <th>move_4</th>\n",
       "      <th>move_5</th>\n",
       "      <th>move_6</th>\n",
       "      <th>move_7</th>\n",
       "      <th>move_8</th>\n",
       "      <th>best_move</th>\n",
       "      <th>best_move_suit</th>\n",
       "      <th>best_move_value.1</th>\n",
       "    </tr>\n",
       "  </thead>\n",
       "  <tbody>\n",
       "    <tr>\n",
       "      <th>0</th>\n",
       "      <td>NaN</td>\n",
       "      <td>NaN</td>\n",
       "      <td>DIAMONDS</td>\n",
       "      <td>0</td>\n",
       "      <td>0</td>\n",
       "      <td>0.50</td>\n",
       "      <td>DIAMONDS</td>\n",
       "      <td>DIAMONDS</td>\n",
       "      <td>False</td>\n",
       "      <td>False</td>\n",
       "      <td>...</td>\n",
       "      <td>RegularMove(card=Card.ACE_SPADES)</td>\n",
       "      <td>RegularMove(card=Card.QUEEN_CLUBS)</td>\n",
       "      <td>RegularMove(card=Card.ACE_HEARTS)</td>\n",
       "      <td>RegularMove(card=Card.KING_HEARTS)</td>\n",
       "      <td>NaN</td>\n",
       "      <td>NaN</td>\n",
       "      <td>NaN</td>\n",
       "      <td>RegularMove(card=Card.TEN_DIAMONDS)</td>\n",
       "      <td>DIAMONDS</td>\n",
       "      <td>10</td>\n",
       "    </tr>\n",
       "    <tr>\n",
       "      <th>1</th>\n",
       "      <td>DIAMONDS</td>\n",
       "      <td>10.0</td>\n",
       "      <td>DIAMONDS</td>\n",
       "      <td>0</td>\n",
       "      <td>0</td>\n",
       "      <td>0.50</td>\n",
       "      <td>CLUBS</td>\n",
       "      <td>CLUBS</td>\n",
       "      <td>False</td>\n",
       "      <td>False</td>\n",
       "      <td>...</td>\n",
       "      <td>RegularMove(card=Card.ACE_CLUBS)</td>\n",
       "      <td>RegularMove(card=Card.JACK_DIAMONDS)</td>\n",
       "      <td>RegularMove(card=Card.KING_DIAMONDS)</td>\n",
       "      <td>RegularMove(card=Card.QUEEN_HEARTS)</td>\n",
       "      <td>NaN</td>\n",
       "      <td>NaN</td>\n",
       "      <td>NaN</td>\n",
       "      <td>RegularMove(card=Card.JACK_CLUBS)</td>\n",
       "      <td>CLUBS</td>\n",
       "      <td>2</td>\n",
       "    </tr>\n",
       "    <tr>\n",
       "      <th>2</th>\n",
       "      <td>NaN</td>\n",
       "      <td>NaN</td>\n",
       "      <td>DIAMONDS</td>\n",
       "      <td>12</td>\n",
       "      <td>0</td>\n",
       "      <td>1.00</td>\n",
       "      <td>SPADES</td>\n",
       "      <td>SPADES</td>\n",
       "      <td>False</td>\n",
       "      <td>False</td>\n",
       "      <td>...</td>\n",
       "      <td>RegularMove(card=Card.ACE_HEARTS)</td>\n",
       "      <td>RegularMove(card=Card.QUEEN_CLUBS)</td>\n",
       "      <td>RegularMove(card=Card.KING_HEARTS)</td>\n",
       "      <td>RegularMove(card=Card.ACE_SPADES)</td>\n",
       "      <td>NaN</td>\n",
       "      <td>NaN</td>\n",
       "      <td>NaN</td>\n",
       "      <td>RegularMove(card=Card.ACE_SPADES)</td>\n",
       "      <td>SPADES</td>\n",
       "      <td>11</td>\n",
       "    </tr>\n",
       "    <tr>\n",
       "      <th>3</th>\n",
       "      <td>SPADES</td>\n",
       "      <td>11.0</td>\n",
       "      <td>DIAMONDS</td>\n",
       "      <td>0</td>\n",
       "      <td>12</td>\n",
       "      <td>1.00</td>\n",
       "      <td>DIAMONDS</td>\n",
       "      <td>DIAMONDS</td>\n",
       "      <td>False</td>\n",
       "      <td>False</td>\n",
       "      <td>...</td>\n",
       "      <td>RegularMove(card=Card.ACE_CLUBS)</td>\n",
       "      <td>RegularMove(card=Card.QUEEN_HEARTS)</td>\n",
       "      <td>RegularMove(card=Card.TEN_HEARTS)</td>\n",
       "      <td>RegularMove(card=Card.KING_DIAMONDS)</td>\n",
       "      <td>NaN</td>\n",
       "      <td>NaN</td>\n",
       "      <td>NaN</td>\n",
       "      <td>RegularMove(card=Card.JACK_DIAMONDS)</td>\n",
       "      <td>DIAMONDS</td>\n",
       "      <td>2</td>\n",
       "    </tr>\n",
       "    <tr>\n",
       "      <th>4</th>\n",
       "      <td>NaN</td>\n",
       "      <td>NaN</td>\n",
       "      <td>DIAMONDS</td>\n",
       "      <td>13</td>\n",
       "      <td>12</td>\n",
       "      <td>0.52</td>\n",
       "      <td>CLUBS</td>\n",
       "      <td>CLUBS</td>\n",
       "      <td>False</td>\n",
       "      <td>False</td>\n",
       "      <td>...</td>\n",
       "      <td>RegularMove(card=Card.TEN_HEARTS)</td>\n",
       "      <td>RegularMove(card=Card.QUEEN_HEARTS)</td>\n",
       "      <td>RegularMove(card=Card.KING_SPADES)</td>\n",
       "      <td>RegularMove(card=Card.KING_DIAMONDS)</td>\n",
       "      <td>NaN</td>\n",
       "      <td>NaN</td>\n",
       "      <td>NaN</td>\n",
       "      <td>RegularMove(card=Card.ACE_CLUBS)</td>\n",
       "      <td>CLUBS</td>\n",
       "      <td>11</td>\n",
       "    </tr>\n",
       "  </tbody>\n",
       "</table>\n",
       "<p>5 rows × 23 columns</p>\n",
       "</div>"
      ],
      "text/plain": [
       "  suit_opponent  value_opponent trump_suit  stance_self  stance_opponent  \\\n",
       "0           NaN             NaN   DIAMONDS            0                0   \n",
       "1      DIAMONDS            10.0   DIAMONDS            0                0   \n",
       "2           NaN             NaN   DIAMONDS           12                0   \n",
       "3        SPADES            11.0   DIAMONDS            0               12   \n",
       "4           NaN             NaN   DIAMONDS           13               12   \n",
       "\n",
       "   relative_stance best_move_suit best_move_value  best_move_marriage  \\\n",
       "0             0.50       DIAMONDS        DIAMONDS               False   \n",
       "1             0.50          CLUBS           CLUBS               False   \n",
       "2             1.00         SPADES          SPADES               False   \n",
       "3             1.00       DIAMONDS        DIAMONDS               False   \n",
       "4             0.52          CLUBS           CLUBS               False   \n",
       "\n",
       "   best_move_trump_exchange  ...                             move_2  \\\n",
       "0                     False  ...  RegularMove(card=Card.ACE_SPADES)   \n",
       "1                     False  ...   RegularMove(card=Card.ACE_CLUBS)   \n",
       "2                     False  ...  RegularMove(card=Card.ACE_HEARTS)   \n",
       "3                     False  ...   RegularMove(card=Card.ACE_CLUBS)   \n",
       "4                     False  ...  RegularMove(card=Card.TEN_HEARTS)   \n",
       "\n",
       "                                 move_3                                move_4  \\\n",
       "0    RegularMove(card=Card.QUEEN_CLUBS)     RegularMove(card=Card.ACE_HEARTS)   \n",
       "1  RegularMove(card=Card.JACK_DIAMONDS)  RegularMove(card=Card.KING_DIAMONDS)   \n",
       "2    RegularMove(card=Card.QUEEN_CLUBS)    RegularMove(card=Card.KING_HEARTS)   \n",
       "3   RegularMove(card=Card.QUEEN_HEARTS)     RegularMove(card=Card.TEN_HEARTS)   \n",
       "4   RegularMove(card=Card.QUEEN_HEARTS)    RegularMove(card=Card.KING_SPADES)   \n",
       "\n",
       "                                 move_5 move_6 move_7 move_8  \\\n",
       "0    RegularMove(card=Card.KING_HEARTS)    NaN    NaN    NaN   \n",
       "1   RegularMove(card=Card.QUEEN_HEARTS)    NaN    NaN    NaN   \n",
       "2     RegularMove(card=Card.ACE_SPADES)    NaN    NaN    NaN   \n",
       "3  RegularMove(card=Card.KING_DIAMONDS)    NaN    NaN    NaN   \n",
       "4  RegularMove(card=Card.KING_DIAMONDS)    NaN    NaN    NaN   \n",
       "\n",
       "                              best_move   best_move_suit  best_move_value.1  \n",
       "0   RegularMove(card=Card.TEN_DIAMONDS)         DIAMONDS                 10  \n",
       "1     RegularMove(card=Card.JACK_CLUBS)            CLUBS                  2  \n",
       "2     RegularMove(card=Card.ACE_SPADES)           SPADES                 11  \n",
       "3  RegularMove(card=Card.JACK_DIAMONDS)         DIAMONDS                  2  \n",
       "4      RegularMove(card=Card.ACE_CLUBS)            CLUBS                 11  \n",
       "\n",
       "[5 rows x 23 columns]"
      ]
     },
     "execution_count": 51,
     "metadata": {},
     "output_type": "execute_result"
    }
   ],
   "source": [
    "rdeep.head()"
   ]
  },
  {
   "cell_type": "code",
   "execution_count": 98,
   "metadata": {},
   "outputs": [],
   "source": [
    "\n",
    "from sklearn import datasets\n",
    "from sklearn import linear_model\n",
    "from sklearn.preprocessing import LabelEncoder # Appears to not be needed\n",
    "from sklearn.neighbors import KNeighborsClassifier\n",
    "from sklearn.model_selection import train_test_split\n",
    "from matplotlib import pyplot as plt\n",
    "from sklearn.metrics import accuracy_score\n",
    "import pandas as pd\n",
    "from sklearn import svm\n"
   ]
  },
  {
   "cell_type": "code",
   "execution_count": 86,
   "metadata": {},
   "outputs": [
    {
     "name": "stdout",
     "output_type": "stream",
     "text": [
      "[[4 5 0 ... 23 0 0]\n",
      " [1 3 0 ... 23 0 0]\n",
      " [4 5 0 ... 23 0 0]\n",
      " ...\n",
      " [0 4 0 ... 23 0 0]\n",
      " [4 5 0 ... 23 0 0]\n",
      " [0 3 0 ... 23 0 0]]\n",
      "[[20]\n",
      " [7]\n",
      " [6]\n",
      " ...\n",
      " [5]\n",
      " [19]\n",
      " [21]]\n"
     ]
    }
   ],
   "source": [
    "LE = LabelEncoder()\n",
    "another_LE = LabelEncoder()\n",
    "#Let's create the feature and label sets\n",
    "features: List[str] = list(rdeep.columns)\n",
    "for feature in ['best_move', ' best_move_suit',\n",
    "       'best_move_value.1']:\n",
    "       features.remove(feature)\n",
    "\n",
    "feature_set = rdeep[features].values\n",
    "label_set = rdeep[['best_move']].values\n",
    "\n",
    "\n",
    "# And here we encode the feature_set and label set\n",
    "for i in range(len(feature_set[0])):\n",
    "       feature_set[:,i] = LE.fit_transform(feature_set[:,i])\n",
    "\n",
    "for i in range(len(label_set[0])):\n",
    "       label_set[:,i] = another_LE.fit_transform(label_set[:,i])\n",
    "\n",
    "print(feature_set)\n",
    "print(label_set)\n"
   ]
  },
  {
   "cell_type": "code",
   "execution_count": 87,
   "metadata": {},
   "outputs": [],
   "source": [
    "train_x, test_x, train_y, test_y = train_test_split(feature_set, label_set)"
   ]
  },
  {
   "cell_type": "code",
   "execution_count": 99,
   "metadata": {},
   "outputs": [
    {
     "data": {
      "text/html": [
       "<style>#sk-container-id-8 {color: black;background-color: white;}#sk-container-id-8 pre{padding: 0;}#sk-container-id-8 div.sk-toggleable {background-color: white;}#sk-container-id-8 label.sk-toggleable__label {cursor: pointer;display: block;width: 100%;margin-bottom: 0;padding: 0.3em;box-sizing: border-box;text-align: center;}#sk-container-id-8 label.sk-toggleable__label-arrow:before {content: \"▸\";float: left;margin-right: 0.25em;color: #696969;}#sk-container-id-8 label.sk-toggleable__label-arrow:hover:before {color: black;}#sk-container-id-8 div.sk-estimator:hover label.sk-toggleable__label-arrow:before {color: black;}#sk-container-id-8 div.sk-toggleable__content {max-height: 0;max-width: 0;overflow: hidden;text-align: left;background-color: #f0f8ff;}#sk-container-id-8 div.sk-toggleable__content pre {margin: 0.2em;color: black;border-radius: 0.25em;background-color: #f0f8ff;}#sk-container-id-8 input.sk-toggleable__control:checked~div.sk-toggleable__content {max-height: 200px;max-width: 100%;overflow: auto;}#sk-container-id-8 input.sk-toggleable__control:checked~label.sk-toggleable__label-arrow:before {content: \"▾\";}#sk-container-id-8 div.sk-estimator input.sk-toggleable__control:checked~label.sk-toggleable__label {background-color: #d4ebff;}#sk-container-id-8 div.sk-label input.sk-toggleable__control:checked~label.sk-toggleable__label {background-color: #d4ebff;}#sk-container-id-8 input.sk-hidden--visually {border: 0;clip: rect(1px 1px 1px 1px);clip: rect(1px, 1px, 1px, 1px);height: 1px;margin: -1px;overflow: hidden;padding: 0;position: absolute;width: 1px;}#sk-container-id-8 div.sk-estimator {font-family: monospace;background-color: #f0f8ff;border: 1px dotted black;border-radius: 0.25em;box-sizing: border-box;margin-bottom: 0.5em;}#sk-container-id-8 div.sk-estimator:hover {background-color: #d4ebff;}#sk-container-id-8 div.sk-parallel-item::after {content: \"\";width: 100%;border-bottom: 1px solid gray;flex-grow: 1;}#sk-container-id-8 div.sk-label:hover label.sk-toggleable__label {background-color: #d4ebff;}#sk-container-id-8 div.sk-serial::before {content: \"\";position: absolute;border-left: 1px solid gray;box-sizing: border-box;top: 0;bottom: 0;left: 50%;z-index: 0;}#sk-container-id-8 div.sk-serial {display: flex;flex-direction: column;align-items: center;background-color: white;padding-right: 0.2em;padding-left: 0.2em;position: relative;}#sk-container-id-8 div.sk-item {position: relative;z-index: 1;}#sk-container-id-8 div.sk-parallel {display: flex;align-items: stretch;justify-content: center;background-color: white;position: relative;}#sk-container-id-8 div.sk-item::before, #sk-container-id-8 div.sk-parallel-item::before {content: \"\";position: absolute;border-left: 1px solid gray;box-sizing: border-box;top: 0;bottom: 0;left: 50%;z-index: -1;}#sk-container-id-8 div.sk-parallel-item {display: flex;flex-direction: column;z-index: 1;position: relative;background-color: white;}#sk-container-id-8 div.sk-parallel-item:first-child::after {align-self: flex-end;width: 50%;}#sk-container-id-8 div.sk-parallel-item:last-child::after {align-self: flex-start;width: 50%;}#sk-container-id-8 div.sk-parallel-item:only-child::after {width: 0;}#sk-container-id-8 div.sk-dashed-wrapped {border: 1px dashed gray;margin: 0 0.4em 0.5em 0.4em;box-sizing: border-box;padding-bottom: 0.4em;background-color: white;}#sk-container-id-8 div.sk-label label {font-family: monospace;font-weight: bold;display: inline-block;line-height: 1.2em;}#sk-container-id-8 div.sk-label-container {text-align: center;}#sk-container-id-8 div.sk-container {/* jupyter's `normalize.less` sets `[hidden] { display: none; }` but bootstrap.min.css set `[hidden] { display: none !important; }` so we also need the `!important` here to be able to override the default hidden behavior on the sphinx rendered scikit-learn.org. See: https://github.com/scikit-learn/scikit-learn/issues/21755 */display: inline-block !important;position: relative;}#sk-container-id-8 div.sk-text-repr-fallback {display: none;}</style><div id=\"sk-container-id-8\" class=\"sk-top-container\"><div class=\"sk-text-repr-fallback\"><pre>SVC()</pre><b>In a Jupyter environment, please rerun this cell to show the HTML representation or trust the notebook. <br />On GitHub, the HTML representation is unable to render, please try loading this page with nbviewer.org.</b></div><div class=\"sk-container\" hidden><div class=\"sk-item\"><div class=\"sk-estimator sk-toggleable\"><input class=\"sk-toggleable__control sk-hidden--visually\" id=\"sk-estimator-id-8\" type=\"checkbox\" checked><label for=\"sk-estimator-id-8\" class=\"sk-toggleable__label sk-toggleable__label-arrow\">SVC</label><div class=\"sk-toggleable__content\"><pre>SVC()</pre></div></div></div></div></div>"
      ],
      "text/plain": [
       "SVC()"
      ]
     },
     "execution_count": 99,
     "metadata": {},
     "output_type": "execute_result"
    }
   ],
   "source": [
    "from sklearn.neighbors import KNeighborsClassifier\n",
    "ml_bot = svm.SVC()\n",
    "train_y = train_y.astype('int')\n",
    "ml_bot.fit(train_x, train_y.ravel())"
   ]
  },
  {
   "cell_type": "code",
   "execution_count": 107,
   "metadata": {},
   "outputs": [
    {
     "name": "stdout",
     "output_type": "stream",
     "text": [
      "[20 12  8 ... 16  4  7]\n",
      "[[12]\n",
      " [11]\n",
      " [17]\n",
      " ...\n",
      " [13]\n",
      " [6]\n",
      " [10]]\n"
     ]
    },
    {
     "ename": "AxisError",
     "evalue": "axis 1 is out of bounds for array of dimension 1",
     "output_type": "error",
     "traceback": [
      "\u001b[1;31m---------------------------------------------------------------------------\u001b[0m",
      "\u001b[1;31mAxisError\u001b[0m                                 Traceback (most recent call last)",
      "\u001b[1;32m<ipython-input-107-1e6219860b1f>\u001b[0m in \u001b[0;36m<module>\u001b[1;34m\u001b[0m\n\u001b[0;32m      3\u001b[0m \u001b[0mprint\u001b[0m\u001b[1;33m(\u001b[0m\u001b[0mtest_y\u001b[0m\u001b[1;33m)\u001b[0m\u001b[1;33m\u001b[0m\u001b[1;33m\u001b[0m\u001b[0m\n\u001b[0;32m      4\u001b[0m \u001b[0mpred\u001b[0m \u001b[1;33m=\u001b[0m \u001b[0mml_bot\u001b[0m\u001b[1;33m.\u001b[0m\u001b[0mpredict\u001b[0m\u001b[1;33m(\u001b[0m\u001b[0mtest_x\u001b[0m\u001b[1;33m)\u001b[0m\u001b[1;33m\u001b[0m\u001b[1;33m\u001b[0m\u001b[0m\n\u001b[1;32m----> 5\u001b[1;33m \u001b[0mprint\u001b[0m\u001b[1;33m(\u001b[0m\u001b[0maccuracy_score\u001b[0m\u001b[1;33m(\u001b[0m\u001b[0mtest_y\u001b[0m\u001b[1;33m,\u001b[0m \u001b[0mnp\u001b[0m\u001b[1;33m.\u001b[0m\u001b[0margmax\u001b[0m\u001b[1;33m(\u001b[0m\u001b[0mpred\u001b[0m\u001b[1;33m,\u001b[0m \u001b[0maxis\u001b[0m\u001b[1;33m=\u001b[0m\u001b[1;36m1\u001b[0m\u001b[1;33m)\u001b[0m\u001b[1;33m)\u001b[0m\u001b[1;33m)\u001b[0m\u001b[1;33m\u001b[0m\u001b[1;33m\u001b[0m\u001b[0m\n\u001b[0m\u001b[0;32m      6\u001b[0m \u001b[1;31m# np.argmax(pred_train, axis=1)\u001b[0m\u001b[1;33m\u001b[0m\u001b[1;33m\u001b[0m\u001b[1;33m\u001b[0m\u001b[0m\n",
      "\u001b[1;32m<__array_function__ internals>\u001b[0m in \u001b[0;36margmax\u001b[1;34m(*args, **kwargs)\u001b[0m\n",
      "\u001b[1;32mc:\\Users\\Alexd\\anaconda3\\lib\\site-packages\\numpy\\core\\fromnumeric.py\u001b[0m in \u001b[0;36margmax\u001b[1;34m(a, axis, out)\u001b[0m\n\u001b[0;32m   1191\u001b[0m \u001b[1;33m\u001b[0m\u001b[0m\n\u001b[0;32m   1192\u001b[0m     \"\"\"\n\u001b[1;32m-> 1193\u001b[1;33m     \u001b[1;32mreturn\u001b[0m \u001b[0m_wrapfunc\u001b[0m\u001b[1;33m(\u001b[0m\u001b[0ma\u001b[0m\u001b[1;33m,\u001b[0m \u001b[1;34m'argmax'\u001b[0m\u001b[1;33m,\u001b[0m \u001b[0maxis\u001b[0m\u001b[1;33m=\u001b[0m\u001b[0maxis\u001b[0m\u001b[1;33m,\u001b[0m \u001b[0mout\u001b[0m\u001b[1;33m=\u001b[0m\u001b[0mout\u001b[0m\u001b[1;33m)\u001b[0m\u001b[1;33m\u001b[0m\u001b[1;33m\u001b[0m\u001b[0m\n\u001b[0m\u001b[0;32m   1194\u001b[0m \u001b[1;33m\u001b[0m\u001b[0m\n\u001b[0;32m   1195\u001b[0m \u001b[1;33m\u001b[0m\u001b[0m\n",
      "\u001b[1;32mc:\\Users\\Alexd\\anaconda3\\lib\\site-packages\\numpy\\core\\fromnumeric.py\u001b[0m in \u001b[0;36m_wrapfunc\u001b[1;34m(obj, method, *args, **kwds)\u001b[0m\n\u001b[0;32m     56\u001b[0m \u001b[1;33m\u001b[0m\u001b[0m\n\u001b[0;32m     57\u001b[0m     \u001b[1;32mtry\u001b[0m\u001b[1;33m:\u001b[0m\u001b[1;33m\u001b[0m\u001b[1;33m\u001b[0m\u001b[0m\n\u001b[1;32m---> 58\u001b[1;33m         \u001b[1;32mreturn\u001b[0m \u001b[0mbound\u001b[0m\u001b[1;33m(\u001b[0m\u001b[1;33m*\u001b[0m\u001b[0margs\u001b[0m\u001b[1;33m,\u001b[0m \u001b[1;33m**\u001b[0m\u001b[0mkwds\u001b[0m\u001b[1;33m)\u001b[0m\u001b[1;33m\u001b[0m\u001b[1;33m\u001b[0m\u001b[0m\n\u001b[0m\u001b[0;32m     59\u001b[0m     \u001b[1;32mexcept\u001b[0m \u001b[0mTypeError\u001b[0m\u001b[1;33m:\u001b[0m\u001b[1;33m\u001b[0m\u001b[1;33m\u001b[0m\u001b[0m\n\u001b[0;32m     60\u001b[0m         \u001b[1;31m# A TypeError occurs if the object does have such a method in its\u001b[0m\u001b[1;33m\u001b[0m\u001b[1;33m\u001b[0m\u001b[1;33m\u001b[0m\u001b[0m\n",
      "\u001b[1;31mAxisError\u001b[0m: axis 1 is out of bounds for array of dimension 1"
     ]
    }
   ],
   "source": [
    "import numpy as np\n",
    "print(ml_bot.predict(test_x))\n",
    "print(test_y)\n",
    "pred = ml_bot.predict(test_x)\n",
    "print(accuracy_score(test_y, np.argmax(pred, axis=1)))\n",
    "# np.argmax(pred_train, axis=1)"
   ]
  }
 ],
 "metadata": {
  "kernelspec": {
   "display_name": "base",
   "language": "python",
   "name": "python3"
  },
  "language_info": {
   "codemirror_mode": {
    "name": "ipython",
    "version": 3
   },
   "file_extension": ".py",
   "mimetype": "text/x-python",
   "name": "python",
   "nbconvert_exporter": "python",
   "pygments_lexer": "ipython3",
   "version": "3.8.8"
  },
  "orig_nbformat": 4,
  "vscode": {
   "interpreter": {
    "hash": "a6df0444a2b6adc38b6b167ee2f73acb37427875d298a936e2e26d4fdff21ebd"
   }
  }
 },
 "nbformat": 4,
 "nbformat_minor": 2
}
