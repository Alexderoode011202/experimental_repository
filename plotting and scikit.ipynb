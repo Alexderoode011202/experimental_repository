{
 "cells": [
  {
   "cell_type": "code",
   "execution_count": 24,
   "metadata": {},
   "outputs": [
    {
     "data": {
      "image/png": "[encoded data removed]",
      "text/plain": [
       "<Figure size 432x288 with 1 Axes>"
      ]
     },
     "metadata": {
      "needs_background": "light"
     },
     "output_type": "display_data"
    },
    {
     "data": {
      "image/png": "[encoded data removed]",
      "text/plain": [
       "<Figure size 432x288 with 1 Axes>"
      ]
     },
     "metadata": {
      "needs_background": "light"
     },
     "output_type": "display_data"
    }
   ],
   "source": [
    "import matplotlib.pyplot as mpl\n",
    "\n",
    "x = [num for num in range(1,40, 1)]\n",
    "y = [num**2 for num in x]\n",
    "mpl.xlabel(\"something\")\n",
    "mpl.ylabel(\"something else\")\n",
    "mpl.plot(x, y, color= \"g\")\n",
    "mpl.show()\n",
    "mpl.show(mpl.scatter(x,y, color=\"k\"))\n",
    "\n",
    "\n",
    "\n"
   ]
  },
  {
   "cell_type": "code",
   "execution_count": 46,
   "metadata": {},
   "outputs": [
    {
     "name": "stdout",
     "output_type": "stream",
     "text": [
      "<built-in method values of Bunch object at 0x000001956B1EE2C0>\n",
      "data\n",
      "target\n",
      "frame\n",
      "target_names\n",
      "DESCR\n",
      "feature_names\n",
      "filename\n",
      "setosa\n",
      "versicolor\n",
      "virginica\n",
      "      0    1    2    3\n",
      "0   5.1  3.5  1.4  0.2\n",
      "1   4.9  3.0  1.4  0.2\n",
      "2   4.7  3.2  1.3  0.2\n",
      "3   4.6  3.1  1.5  0.2\n",
      "4   5.0  3.6  1.4  0.2\n",
      "5   5.4  3.9  1.7  0.4\n",
      "6   4.6  3.4  1.4  0.3\n",
      "7   5.0  3.4  1.5  0.2\n",
      "8   4.4  2.9  1.4  0.2\n",
      "9   4.9  3.1  1.5  0.1\n",
      "10  5.4  3.7  1.5  0.2\n",
      "11  4.8  3.4  1.6  0.2\n",
      "12  4.8  3.0  1.4  0.1\n",
      "13  4.3  3.0  1.1  0.1\n",
      "14  5.8  4.0  1.2  0.2\n",
      "c:\\Users\\Alexd\\anaconda3\\lib\\site-packages\\sklearn\\datasets\\data\\iris.csv\n",
      "   150    4  setosa  versicolor  virginica\n",
      "0  5.1  3.5     1.4         0.2          0\n",
      "1  4.9  3.0     1.4         0.2          0\n",
      "2  4.7  3.2     1.3         0.2          0\n",
      "3  4.6  3.1     1.5         0.2          0\n",
      "4  5.0  3.6     1.4         0.2          0\n",
      "['sepal length (cm)', 'sepal width (cm)', 'petal length (cm)', 'petal width (cm)']\n",
      "   sepal length (cm)  sepal width (cm)  petal length (cm)  petal width (cm)\n",
      "0                5.1               3.5                1.4               0.2\n",
      "1                4.9               3.0                1.4               0.2\n",
      "2                4.7               3.2                1.3               0.2\n",
      "3                4.6               3.1                1.5               0.2\n",
      "4                5.0               3.6                1.4               0.2\n",
      "(150, 4)\n"
     ]
    },
    {
     "data": {
      "text/plain": [
       "\"  \\nAppearantly the iris dataset does not only come with the data, but also comes will all sorts of extra goodies.\\nWhat they are good foor and why they are there is not clear, but when iterating through the iris variable, it's clear lots extra stuff is attached aside from the expected dataset\\nthese goodies are: \\n\\ndata\\ntarget\\nframe\\ntarget_names\\nDESCR\\nfeature_names\\nfilename\\nsetosa\\nversicolor\\nvirginica\\n\\n\""
      ]
     },
     "execution_count": 46,
     "metadata": {},
     "output_type": "execute_result"
    }
   ],
   "source": [
    "# Getting started with datasets\n",
    "\n",
    "from sklearn import datasets\n",
    "from sklearn.model_selection import train_test_split\n",
    "import numpy as np\n",
    "import pandas as pd\n",
    "\n",
    "iris = datasets.load_iris()\n",
    "\n",
    "values = iris.values\n",
    "target = iris.target\n",
    "\n",
    "print(values)\n",
    "for line in iris:\n",
    "    print(line)\n",
    "\n",
    "for line in iris[\"target_names\"]:\n",
    "    print(line)\n",
    "\n",
    "test_df = pd.DataFrame(iris.data)\n",
    "\n",
    "print(test_df.head(15))\n",
    "\n",
    "print(iris.filename)\n",
    "\n",
    "# c:\\Users\\Alexd\\anaconda3\\lib\\site-packages\\sklearn\\datasets\\data\\iris.csv\n",
    "\n",
    "new_est_df = pd.read_csv(\"c:/Users/Alexd/anaconda3/lib/site-packages/sklearn/datasets/data/iris.csv\")\n",
    "\n",
    "print(new_est_df.head())\n",
    "\n",
    "print(iris.feature_names)\n",
    "\n",
    "final_df = pd.DataFrame(iris.data, columns=iris.feature_names)\n",
    "\n",
    "print(final_df.head())\n",
    "\n",
    "print(final_df.shape)\n",
    "\n",
    "\n",
    "\n",
    "\"\"\"  \n",
    "Appearantly the iris dataset does not only come with the data, but also comes will all sorts of extra goodies.\n",
    "What they are good foor and why they are there is not clear, but when iterating through the iris variable, it's clear lots extra stuff is attached aside from the expected dataset\n",
    "these goodies are: \n",
    "\n",
    "data\n",
    "target\n",
    "frame\n",
    "target_names\n",
    "DESCR\n",
    "feature_names\n",
    "filename\n",
    "setosa\n",
    "versicolor\n",
    "virginica\n",
    "\n",
    "\"\"\"\n"
   ]
  },
  {
   "cell_type": "code",
   "execution_count": 3,
   "metadata": {},
   "outputs": [
    {
     "name": "stdout",
     "output_type": "stream",
     "text": [
      "data\n",
      "target\n",
      "frame\n",
      "target_names\n",
      "DESCR\n",
      "feature_names\n",
      "filename\n",
      "['sepal length (cm)', 'sepal width (cm)', 'petal length (cm)', 'petal width (cm)']\n",
      "['setosa' 'versicolor' 'virginica']\n",
      "0    0\n",
      "1    0\n",
      "2    0\n",
      "3    0\n",
      "4    0\n",
      "Name: target, dtype: int32\n",
      "(150,)\n"
     ]
    }
   ],
   "source": [
    "\n",
    "\n",
    "# Here we actually split,train,test the data\n",
    "new_iris= datasets.load_iris(as_frame=True)\n",
    "\n",
    "for x in iris:\n",
    "    print(x)\n",
    "    \n",
    "print(new_iris.feature_names)\n",
    "print(new_iris.target_names)\n",
    "\n",
    "# print(new_iris)\n",
    "\n",
    "print(new_iris.target.head())\n",
    "print(new_iris.target.shape)\n"
   ]
  },
  {
   "cell_type": "code",
   "execution_count": 104,
   "metadata": {},
   "outputs": [
    {
     "name": "stdout",
     "output_type": "stream",
     "text": [
      "  buying  maintenance  doors  persons  luggage_boot  safety  class\n",
      "0  vhigh        vhigh      2        2         small     low  unacc\n",
      "1  vhigh        vhigh      2        2         small     med  unacc\n",
      "2  vhigh        vhigh      2        2         small    high  unacc\n",
      "3  vhigh        vhigh      2        2           med     low  unacc\n",
      "4  vhigh        vhigh      2        2           med     med  unacc\n",
      "['buying', ' maintenance', ' doors', ' persons', ' luggage_boot', ' safety']\n",
      "[[3 3 0 0 2 1]\n",
      " [3 3 0 0 2 2]\n",
      " [3 3 0 0 2 0]\n",
      " ...\n",
      " [1 1 3 2 0 1]\n",
      " [1 1 3 2 0 2]\n",
      " [1 1 3 2 0 0]]\n",
      "0\n",
      "[3 3 3 ... 1 1 1]\n",
      "1\n",
      "[3 3 3 ... 1 1 1]\n",
      "2\n",
      "[0 0 0 ... 3 3 3]\n",
      "3\n",
      "[0 0 0 ... 2 2 2]\n",
      "4\n",
      "[2 2 2 ... 0 0 0]\n",
      "5\n",
      "[1 2 0 ... 1 2 0]\n",
      "[[0]\n",
      " [0]\n",
      " [0]\n",
      " ...\n",
      " [0]\n",
      " [2]\n",
      " [3]]\n",
      "Our accuracy is: 0.8554913294797688\n"
     ]
    },
    {
     "name": "stderr",
     "output_type": "stream",
     "text": [
      "<ipython-input-104-5803b0ee8d34>:40: SettingWithCopyWarning: \n",
      "A value is trying to be set on a copy of a slice from a DataFrame.\n",
      "Try using .loc[row_indexer,col_indexer] = value instead\n",
      "\n",
      "See the caveats in the documentation: https://pandas.pydata.org/pandas-docs/stable/user_guide/indexing.html#returning-a-view-versus-a-copy\n",
      "  label_set[\" class\"] = label_set[\" class\"].map(convert_dict)\n",
      "c:\\Users\\Alexd\\anaconda3\\lib\\site-packages\\sklearn\\neighbors\\_classification.py:179: DataConversionWarning: A column-vector y was passed when a 1d array was expected. Please change the shape of y to (n_samples,), for example using ravel().\n",
      "  return self._fit(X, y)\n"
     ]
    }
   ],
   "source": [
    "# Given I don't understand the given iris dataset, I am going to try splitting my own datasets\n",
    "from sklearn import preprocessing\n",
    "from sklearn import neighbors\n",
    "from sklearn import metrics\n",
    "\n",
    "own_df = pd.read_csv(\"datasets/car_dataset.csv\")\n",
    "\n",
    "print(own_df.head())\n",
    "\n",
    "feature_columns = list(own_df.columns)\n",
    "feature_columns.remove(\" class\")\n",
    "print(feature_columns)\n",
    "feature_set= own_df[['buying', \" maintenance\", \" doors\", \" persons\", \" luggage_boot\", \" safety\"]].values\n",
    "label_set = own_df[[\" class\"]]\n",
    "\n",
    "# train_x, train_y, test_x, test_y = train_test_split(feature_set, label_set, test_size=0.2)\n",
    "\n",
    "# Here we encode the feature set\n",
    "le= preprocessing.LabelEncoder()\n",
    "for thing in range(len(feature_set[0])):\n",
    "    feature_set[:, thing] = le.fit_transform(feature_set[:, thing])\n",
    "\n",
    "print(feature_set)\n",
    "\n",
    "for x in range(len(feature_set[0])):\n",
    "    print(x)\n",
    "    print(feature_set[:,x])\n",
    "\n",
    "# Here we encode the label set\n",
    "# (Using label mapping)\n",
    "\n",
    "convert_dict: dict = {\n",
    "    \"unacc\": 0,\n",
    "    \"acc\": 1,\n",
    "    \"good\": 2,\n",
    "    \"vgood\": 3\n",
    "    }\n",
    "\n",
    "\n",
    "label_set[\" class\"] = label_set[\" class\"].map(convert_dict)    \n",
    "\n",
    "label_set = np.array(label_set)\n",
    "\n",
    "print(label_set)\n",
    "\n",
    "train_x, test_x, train_y, test_y= train_test_split(feature_set, label_set, test_size= 0.10)\n",
    "\n",
    "\n",
    "# Here we create the model\n",
    "knn_ml = neighbors.KNeighborsClassifier(n_neighbors=5, weights=\"distance\")\n",
    "\n",
    "# And here the model gets trained using the .fit() method\n",
    "knn_ml.fit(train_x, train_y)\n",
    "\n",
    "prediction = knn_ml.predict(test_x)\n",
    "\n",
    "accuracy = metrics.accuracy_score(test_y, prediction)\n",
    "\n",
    "print(f\"Our accuracy is: {accuracy}\")\n",
    "\n",
    "\n",
    "\n",
    "\n",
    "#train_x, test_x, train_y, test_y = train_test_split(feature_df, label_series, test_size=0.2)\n",
    "\n",
    "#print(train_x)\n",
    "#print(train_y)\n",
    "# So appearantly train_x takes all the features\n",
    "# And train_y takes all of the labels"
   ]
  },
  {
   "cell_type": "code",
   "execution_count": 138,
   "metadata": {},
   "outputs": [
    {
     "name": "stdout",
     "output_type": "stream",
     "text": [
      "(150, 4)\n",
      "(150,)\n",
      "0.9666666666666667\n"
     ]
    }
   ],
   "source": [
    "#Testing with Support Vector Machines (SVM's)\n",
    "\n",
    "# Import all the needed modules\n",
    "from sklearn import svm\n",
    "from sklearn.datasets import load_iris\n",
    "\n",
    "# Load in the dataset\n",
    "iris = load_iris()\n",
    "\n",
    "# Seperate feature-set from label-set\n",
    "feature_set = iris.data\n",
    "label_set = iris.target\n",
    "\n",
    "classes: list = [\"Iris Setosa\", \"Iris Versicolour\", \"Iris Virginica\"]\n",
    "\n",
    "print(feature_set.shape)\n",
    "print(label_set.shape)\n",
    "# convert the class values\n",
    "\n",
    "\n",
    "#split feature and label set into train_x, test_x, train_y, test_y\n",
    "x_train, x_test, y_train, y_test = train_test_split(feature_set, label_set, test_size = 0.2)\n",
    "\n",
    "#put the sets into the ML\n",
    "model = svm.SVC()\n",
    "\n",
    "model.fit(x_train, y_train)\n",
    "\n",
    "pred = model.predict(x_test)\n",
    "\n",
    "print(metrics.accuracy_score(y_test, pred))\n",
    "\n",
    "\n",
    "\n",
    "\n",
    "\n",
    "#Test accuracy\n"
   ]
  }
 ],
 "metadata": {
  "kernelspec": {
   "display_name": "base",
   "language": "python",
   "name": "python3"
  },
  "language_info": {
   "codemirror_mode": {
    "name": "ipython",
    "version": 3
   },
   "file_extension": ".py",
   "mimetype": "text/x-python",
   "name": "python",
   "nbconvert_exporter": "python",
   "pygments_lexer": "ipython3",
   "version": "3.8.8 (default, Apr 13 2021, 15:08:03) [MSC v.1916 64 bit (AMD64)]"
  },
  "orig_nbformat": 4,
  "vscode": {
   "interpreter": {
    "hash": "a6df0444a2b6adc38b6b167ee2f73acb37427875d298a936e2e26d4fdff21ebd"
   }
  }
 },
 "nbformat": 4,
 "nbformat_minor": 2
}
