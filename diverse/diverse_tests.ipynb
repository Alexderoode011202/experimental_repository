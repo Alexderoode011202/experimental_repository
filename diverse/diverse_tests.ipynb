{
 "cells": [
  {
   "cell_type": "code",
   "execution_count": 3,
   "metadata": {},
   "outputs": [
    {
     "name": "stdout",
     "output_type": "stream",
     "text": [
      "Hello! :\n"
     ]
    }
   ],
   "source": [
    "some_word: str = \"Hello! :D\"\n",
    "\n",
    "print(some_word[:-1])"
   ]
  },
  {
   "cell_type": "code",
   "execution_count": 3,
   "metadata": {},
   "outputs": [],
   "source": [
    "def func_1(par = \"no input\") ->None:\n",
    "    print(par)\n",
    "\n",
    "def func_2(par) -> None:\n",
    "    print(par)\n"
   ]
  },
  {
   "cell_type": "code",
   "execution_count": 2,
   "metadata": {},
   "outputs": [
    {
     "name": "stdout",
     "output_type": "stream",
     "text": [
      "<function <lambda> at 0x000001E1588BE820>\n"
     ]
    }
   ],
   "source": [
    "from functools import partial\n",
    "print(lambda: [partial(func_1, \"aaa\"), partial(func_2), \"bbb\"])"
   ]
  },
  {
   "cell_type": "code",
   "execution_count": 4,
   "metadata": {},
   "outputs": [
    {
     "name": "stdout",
     "output_type": "stream",
     "text": [
      "no input\n",
      "howdy!\n"
     ]
    }
   ],
   "source": [
    "from tkinter import *\n",
    "string = \"howdy!\"\n",
    "\n",
    "root = Tk()\n",
    "\n",
    "test = Button(root, text=\"test\", command=lambda: [func_1(), func_2(string)])\n",
    "\n",
    "test.pack()\n",
    "\n",
    "root.mainloop()"
   ]
  },
  {
   "cell_type": "code",
   "execution_count": 19,
   "metadata": {},
   "outputs": [
    {
     "name": "stdout",
     "output_type": "stream",
     "text": [
      "5\n"
     ]
    }
   ],
   "source": [
    "# Global variables\n",
    "\n",
    "x = 5\n",
    "\n",
    "def f():\n",
    "    global x\n",
    "    print(x)\n",
    "\n",
    "f()\n",
    "\n"
   ]
  },
  {
   "cell_type": "code",
   "execution_count": 18,
   "metadata": {},
   "outputs": [
    {
     "name": "stdout",
     "output_type": "stream",
     "text": [
      "(0.5068119110340001, 9.332625635294163e-78)\n",
      "(1.0446197183098591, 0.9168244867312905)\n"
     ]
    }
   ],
   "source": [
    "#Fisher's exact test\n",
    "\n",
    "from math import factorial\n",
    "import scipy.stats as stats\n",
    "\"\"\"\n",
    "a = 73\n",
    "b = 71\n",
    "c = 125\n",
    "d = 127\n",
    "\n",
    "h1 = factorial((a+b))\n",
    "h2 = factorial((a+c))\n",
    "h3 = factorial((d+c))\n",
    "h4 = factorial((d+b))\n",
    "\n",
    "xx = h1*h2*h3*h4\n",
    "print(len(str(xx)))\n",
    "xx = xx/10**1000\n",
    "print(xx)\n",
    "yy = factorial(a)*factorial(b)*factorial(c)*factorial(d)\n",
    "p = xx/yy\n",
    "\"\"\"\n",
    "table = [[1413,2451],[8587, 7549]]\n",
    "print(stats.fisher_exact(table))\n",
    "print(stats.fisher_exact([[73,71], [125, 127]]))\n"
   ]
  },
  {
   "cell_type": "code",
   "execution_count": null,
   "metadata": {},
   "outputs": [],
   "source": []
  }
 ],
 "metadata": {
  "kernelspec": {
   "display_name": "base",
   "language": "python",
   "name": "python3"
  },
  "language_info": {
   "codemirror_mode": {
    "name": "ipython",
    "version": 3
   },
   "file_extension": ".py",
   "mimetype": "text/x-python",
   "name": "python",
   "nbconvert_exporter": "python",
   "pygments_lexer": "ipython3",
   "version": "3.8.8"
  },
  "orig_nbformat": 4,
  "vscode": {
   "interpreter": {
    "hash": "a6df0444a2b6adc38b6b167ee2f73acb37427875d298a936e2e26d4fdff21ebd"
   }
  }
 },
 "nbformat": 4,
 "nbformat_minor": 2
}
