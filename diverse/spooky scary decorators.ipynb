{
 "cells": [
  {
   "cell_type": "code",
   "execution_count": 1,
   "metadata": {},
   "outputs": [],
   "source": [
    "\"\"\"  \n",
    "Decorators allow us to add stuff to functions before and after the function itself taking place.\n",
    "When the standard function does take arguments, it is import to make use of *args and **kwargs, even tho I have no idea yet what they are exactly good for\n",
    "\"\"\""
   ]
  },
  {
   "cell_type": "code",
   "execution_count": 1,
   "metadata": {},
   "outputs": [
    {
     "name": "stdout",
     "output_type": "stream",
     "text": [
      "(3,)\n",
      "{}\n",
      "test succesfull\n",
      "{}\n"
     ]
    },
    {
     "data": {
      "text/plain": [
       "8"
      ]
     },
     "execution_count": 1,
     "metadata": {},
     "output_type": "execute_result"
    }
   ],
   "source": [
    "def name_adder(function):\n",
    "    def wrapper(*args, **kwargs):\n",
    "        print(args)\n",
    "        print(kwargs)\n",
    "\n",
    "        test = function(*args, **kwargs)\n",
    "        print(\"test succesfull\")\n",
    "        print(kwargs)\n",
    "        return test\n",
    "\n",
    "    return wrapper\n",
    "\n",
    "\n",
    "@name_adder\n",
    "def plus_5(y):\n",
    "    return y + 5\n",
    "\n",
    "plus_5(3)\n"
   ]
  },
  {
   "cell_type": "code",
   "execution_count": 11,
   "metadata": {},
   "outputs": [
    {
     "name": "stdout",
     "output_type": "stream",
     "text": [
      "8\n",
      "Multiplication has started\n"
     ]
    },
    {
     "ename": "TypeError",
     "evalue": "does_math() missing 1 required positional argument: 'y'",
     "output_type": "error",
     "traceback": [
      "\u001b[1;31m---------------------------------------------------------------------------\u001b[0m",
      "\u001b[1;31mTypeError\u001b[0m                                 Traceback (most recent call last)",
      "Cell \u001b[1;32mIn[11], line 16\u001b[0m\n\u001b[0;32m     11\u001b[0m     \u001b[39mreturn\u001b[39;00m wrapper(func)\n\u001b[0;32m     13\u001b[0m does_math(\u001b[39m3\u001b[39m,\u001b[39m5\u001b[39m)\n\u001b[0;32m     15\u001b[0m \u001b[39m@double\u001b[39;49m\n\u001b[1;32m---> 16\u001b[0m \u001b[39mdef\u001b[39;49;00m \u001b[39mdoes_math\u001b[39;49m(x, y):\n\u001b[0;32m     17\u001b[0m     \u001b[39mreturn\u001b[39;49;00m x \u001b[39m+\u001b[39;49m y\n",
      "Cell \u001b[1;32mIn[11], line 11\u001b[0m, in \u001b[0;36mdouble\u001b[1;34m(func)\u001b[0m\n\u001b[0;32m      9\u001b[0m     \u001b[39mprint\u001b[39m(\u001b[39m\"\u001b[39m\u001b[39mmultiplication has ended\u001b[39m\u001b[39m\"\u001b[39m)\n\u001b[0;32m     10\u001b[0m     \u001b[39mreturn\u001b[39;00m answer\n\u001b[1;32m---> 11\u001b[0m \u001b[39mreturn\u001b[39;00m wrapper(func)\n",
      "Cell \u001b[1;32mIn[11], line 8\u001b[0m, in \u001b[0;36mdouble.<locals>.wrapper\u001b[1;34m(*args, **kwargs)\u001b[0m\n\u001b[0;32m      6\u001b[0m \u001b[39mdef\u001b[39;00m \u001b[39mwrapper\u001b[39m(\u001b[39m*\u001b[39margs, \u001b[39m*\u001b[39m\u001b[39m*\u001b[39mkwargs):\n\u001b[0;32m      7\u001b[0m     \u001b[39mprint\u001b[39m(\u001b[39m\"\u001b[39m\u001b[39mMultiplication has started\u001b[39m\u001b[39m\"\u001b[39m)\n\u001b[1;32m----> 8\u001b[0m     answer \u001b[39m=\u001b[39m does_math(\u001b[39m*\u001b[39margs, \u001b[39m*\u001b[39m\u001b[39m*\u001b[39mkwargs) \u001b[39m*\u001b[39m \u001b[39m2\u001b[39m\n\u001b[0;32m      9\u001b[0m     \u001b[39mprint\u001b[39m(\u001b[39m\"\u001b[39m\u001b[39mmultiplication has ended\u001b[39m\u001b[39m\"\u001b[39m)\n\u001b[0;32m     10\u001b[0m     \u001b[39mreturn\u001b[39;00m answer\n",
      "\u001b[1;31mTypeError\u001b[0m: does_math() missing 1 required positional argument: 'y'"
     ]
    }
   ],
   "source": [
    "def does_math(x: int, y: int):\n",
    "    print(x + y)\n",
    "    return x+ y\n",
    "\n",
    "def double(func):\n",
    "    def wrapper(*args, **kwargs):\n",
    "        print(\"Multiplication has started\")\n",
    "        answer = does_math(*args, **kwargs) * 2\n",
    "        print(\"multiplication has ended\")\n",
    "        return answer\n",
    "    return wrapper(func)\n",
    "\n",
    "does_math(3,5)\n",
    "\n",
    "@double\n",
    "def does_math(x, y):\n",
    "    return x + y"
   ]
  },
  {
   "cell_type": "code",
   "execution_count": 14,
   "metadata": {},
   "outputs": [
    {
     "name": "stdout",
     "output_type": "stream",
     "text": [
      "4\n",
      "[1, 4, 9]\n"
     ]
    }
   ],
   "source": [
    "# First class functions\n",
    "# Are functions that allow all operations usually available to other entities like being used as an argument, assigned to a variable and returned from a function\n",
    "\n",
    "# here a function gets instantiated and assigned to a variable\n",
    "def my_square(x: int):\n",
    "    return x* x\n",
    "\n",
    "s = my_square\n",
    "\n",
    "print(s(2))\n",
    "\n",
    "\n",
    "def my_map(func, iterable) -> list:\n",
    "    results = []\n",
    "    for x in iterable:\n",
    "        results.append(func(x))\n",
    "\n",
    "    return results\n",
    "\n",
    "print(my_map(s, [1,2,3]))"
   ]
  },
  {
   "cell_type": "code",
   "execution_count": 15,
   "metadata": {},
   "outputs": [
    {
     "name": "stdout",
     "output_type": "stream",
     "text": [
      "<h1>Test Headline!</h1>\n",
      "<h1>Another Headline!</h1>\n",
      "<p>Test Paragraph!</p>\n"
     ]
    }
   ],
   "source": [
    "def html_tag(tag):\n",
    "\n",
    "    def wrap_text(msg):\n",
    "        print('<{0}>{1}</{0}>'.format(tag, msg))\n",
    "\n",
    "    return wrap_text\n",
    "\n",
    "print_h1 = html_tag('h1')\n",
    "print_h1('Test Headline!')\n",
    "print_h1('Another Headline!')\n",
    "\n",
    "print_p = html_tag('p')\n",
    "print_p('Test Paragraph!')"
   ]
  }
 ],
 "metadata": {
  "kernelspec": {
   "display_name": "better_version",
   "language": "python",
   "name": "python3"
  },
  "language_info": {
   "codemirror_mode": {
    "name": "ipython",
    "version": 3
   },
   "file_extension": ".py",
   "mimetype": "text/x-python",
   "name": "python",
   "nbconvert_exporter": "python",
   "pygments_lexer": "ipython3",
   "version": "3.10.8 | packaged by conda-forge | (main, Nov 24 2022, 14:07:00) [MSC v.1916 64 bit (AMD64)]"
  },
  "orig_nbformat": 4,
  "vscode": {
   "interpreter": {
    "hash": "c9eaec7fabbe9144e741ab886ae48cbcd9589f949a4884193c9aceb98f3a8ad7"
   }
  }
 },
 "nbformat": 4,
 "nbformat_minor": 2
}
