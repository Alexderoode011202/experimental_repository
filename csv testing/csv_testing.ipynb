{
 "cells": [
  {
   "cell_type": "code",
   "execution_count": 4,
   "metadata": {},
   "outputs": [],
   "source": [
    "import csv"
   ]
  },
  {
   "cell_type": "code",
   "execution_count": 23,
   "metadata": {},
   "outputs": [],
   "source": [
    "with open(\"C:/Users/Alexd/Desktop/results and graphs/results_dataset.csv\", \"r\") as file:\n",
    "    dict_reader = csv.DictReader(file)\n",
    "    for line in dict_reader:\n",
    "        print(line)\n"
   ]
  },
  {
   "cell_type": "code",
   "execution_count": null,
   "metadata": {},
   "outputs": [],
   "source": [
    "with open(\"C:/Users/Alexd/Desktop/results and graphs/results_dataset.csv\", \"a\") as file:\n",
    "    writer = csv.writer(file)\n",
    "    writer.writerow()"
   ]
  },
  {
   "cell_type": "code",
   "execution_count": 16,
   "metadata": {},
   "outputs": [
    {
     "data": {
      "text/plain": [
       "' \\ntotal_games_played\\t\\nwon_by_rdeep\\t\\nwon_by_Wedding_Planner\\t\\nwinning_percentage_ rdeep\\t\\nwinning_percentage_Wedding_Planner\"\\n'"
      ]
     },
     "execution_count": 16,
     "metadata": {},
     "output_type": "execute_result"
    }
   ],
   "source": [
    "\"\"\" \n",
    "total_games_played\t\n",
    "won_by_rdeep\t\n",
    "won_by_Wedding_Planner\t\n",
    "winning_percentage_ rdeep\t\n",
    "winning_percentage_Wedding_Planner\"\n",
    "\"\"\""
   ]
  }
 ],
 "metadata": {
  "kernelspec": {
   "display_name": "base",
   "language": "python",
   "name": "python3"
  },
  "language_info": {
   "codemirror_mode": {
    "name": "ipython",
    "version": 3
   },
   "file_extension": ".py",
   "mimetype": "text/x-python",
   "name": "python",
   "nbconvert_exporter": "python",
   "pygments_lexer": "ipython3",
   "version": "3.8.8"
  },
  "orig_nbformat": 4,
  "vscode": {
   "interpreter": {
    "hash": "a6df0444a2b6adc38b6b167ee2f73acb37427875d298a936e2e26d4fdff21ebd"
   }
  }
 },
 "nbformat": 4,
 "nbformat_minor": 2
}
