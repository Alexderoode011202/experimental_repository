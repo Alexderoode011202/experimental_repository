{
 "cells": [
  {
   "attachments": {},
   "cell_type": "markdown",
   "metadata": {},
   "source": [
    "The asterisk operator (*) is a pretty complicated operator which has many different functions in python. The most obvious one is multiplication"
   ]
  },
  {
   "cell_type": "code",
   "execution_count": 28,
   "metadata": {},
   "outputs": [
    {
     "name": "stdout",
     "output_type": "stream",
     "text": [
      "14\n",
      "ABABABABAB\n",
      "[1, 2, 3, 1, 2, 3, 1, 2, 3]\n",
      "('something', 'someting else', 'something', 'someting else', 'something', 'someting else')\n",
      "1\n",
      "2\n",
      "3\n"
     ]
    }
   ],
   "source": [
    "\n",
    "print(7 * 2)\n",
    "print(\"AB\" * 5)\n",
    "print([1,2,3]*3)\n",
    "print(3* (\"something\", \"someting else\"))\n",
    "\n",
    "\n"
   ]
  },
  {
   "attachments": {},
   "cell_type": "markdown",
   "metadata": {},
   "source": [
    "They can also be used to unpack iterables when inserting them as arguments in a list"
   ]
  },
  {
   "cell_type": "code",
   "execution_count": 34,
   "metadata": {},
   "outputs": [
    {
     "name": "stdout",
     "output_type": "stream",
     "text": [
      "a: 1\n",
      "b: 2\n",
      "c: 3\n",
      "--------\n",
      "a: a\n",
      "b: b\n",
      "c: c\n"
     ]
    }
   ],
   "source": [
    "def some_func(a, b, c):\n",
    "    print(f\"a: {a}\")\n",
    "    print(f\"b: {b}\")\n",
    "    print(f\"c: {c}\")\n",
    "\n",
    "some_func(*[1,2,3])\n",
    "\n",
    "print(\"--------\")\n",
    "# This can also be done with a list!\n",
    "some_dict: dict = {\"a\": 7, \"b\": 8, \"c\": 9}\n",
    "some_func(* some_dict)\n"
   ]
  },
  {
   "attachments": {},
   "cell_type": "markdown",
   "metadata": {},
   "source": [
    "But the operator also sees action in *args and **kwargs"
   ]
  },
  {
   "cell_type": "code",
   "execution_count": 10,
   "metadata": {},
   "outputs": [
    {
     "name": "stdout",
     "output_type": "stream",
     "text": [
      "a: 1\n",
      "b: 2\n",
      "args: (3,)\n",
      "kwargs: dict_keys(['four']): dict_values([4])\n"
     ]
    }
   ],
   "source": [
    "def some_func(a, b, *args, **kwargs):\n",
    "    print(f\"a: {a}\")\n",
    "    print(f\"b: {b}\")\n",
    "    print(f\"args: {args}\")\n",
    "    print(f\"kwargs: {str(kwargs.keys())}: {str(kwargs.values())}\")\n",
    "\n",
    "some_func(1,2,3, four=4)"
   ]
  },
  {
   "attachments": {},
   "cell_type": "markdown",
   "metadata": {},
   "source": [
    "But they also have the power to enforce "
   ]
  },
  {
   "cell_type": "code",
   "execution_count": 26,
   "metadata": {},
   "outputs": [
    {
     "name": "stdout",
     "output_type": "stream",
     "text": [
      "a: 1\n",
      "b: 2\n",
      "c: 3\n"
     ]
    }
   ],
   "source": [
    "def some_func(a,b, *,c):\n",
    "    print(f\"a: {a}\")\n",
    "    print(f\"b: {b}\")\n",
    "    print(f\"c: {c}\")\n",
    "\n",
    "some_func(1,2, c=3)"
   ]
  },
  {
   "cell_type": "code",
   "execution_count": 46,
   "metadata": {},
   "outputs": [
    {
     "name": "stdout",
     "output_type": "stream",
     "text": [
      "start: [1, 2]\n",
      "rest: 4\n",
      "-----\n",
      "keys: [1]\n",
      "values: 5\n"
     ]
    }
   ],
   "source": [
    "some_numbers: list = [1,2,3,4,5]\n",
    "\n",
    "*start, another_one, rest, final = some_numbers\n",
    "\n",
    "print(f\"start: {start}\\nrest: {rest}\")\n",
    "\n",
    "*only_keys, only_values ={1:2, 5:6}\n",
    "\n",
    "print(\"--a---\")\n",
    "print(f\"keys: {only_keys}\\nvalues: {only_values}\")"
   ]
  }
 ],
 "metadata": {
  "kernelspec": {
   "display_name": "base",
   "language": "python",
   "name": "python3"
  },
  "language_info": {
   "codemirror_mode": {
    "name": "ipython",
    "version": 3
   },
   "file_extension": ".py",
   "mimetype": "text/x-python",
   "name": "python",
   "nbconvert_exporter": "python",
   "pygments_lexer": "ipython3",
   "version": "3.8.8 (default, Apr 13 2021, 15:08:03) [MSC v.1916 64 bit (AMD64)]"
  },
  "orig_nbformat": 4,
  "vscode": {
   "interpreter": {
    "hash": "a6df0444a2b6adc38b6b167ee2f73acb37427875d298a936e2e26d4fdff21ebd"
   }
  }
 },
 "nbformat": 4,
 "nbformat_minor": 2
}
